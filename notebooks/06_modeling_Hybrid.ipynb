{
 "cells": [
  {
   "cell_type": "code",
   "execution_count": 1,
   "id": "fad14d55-7d04-45ed-b23e-8ec7dbda2560",
   "metadata": {},
   "outputs": [
    {
     "name": "stderr",
     "output_type": "stream",
     "text": [
      "WARNING: All log messages before absl::InitializeLog() is called are written to STDERR\n",
      "E0000 00:00:1746708780.617527 3157111 cuda_dnn.cc:8579] Unable to register cuDNN factory: Attempting to register factory for plugin cuDNN when one has already been registered\n",
      "E0000 00:00:1746708780.620155 3157111 cuda_blas.cc:1407] Unable to register cuBLAS factory: Attempting to register factory for plugin cuBLAS when one has already been registered\n",
      "W0000 00:00:1746708780.627881 3157111 computation_placer.cc:177] computation placer already registered. Please check linkage and avoid linking the same target more than once.\n",
      "W0000 00:00:1746708780.627888 3157111 computation_placer.cc:177] computation placer already registered. Please check linkage and avoid linking the same target more than once.\n",
      "W0000 00:00:1746708780.627889 3157111 computation_placer.cc:177] computation placer already registered. Please check linkage and avoid linking the same target more than once.\n",
      "W0000 00:00:1746708780.627890 3157111 computation_placer.cc:177] computation placer already registered. Please check linkage and avoid linking the same target more than once.\n",
      "I0000 00:00:1746708782.348850 3157111 gpu_device.cc:2019] Created device /job:localhost/replica:0/task:0/device:GPU:0 with 1090 MB memory:  -> device: 0, name: NVIDIA GeForce RTX 4070 Ti, pci bus id: 0000:01:00.0, compute capability: 8.9\n",
      "I0000 00:00:1746708783.742653 3157381 cuda_dnn.cc:529] Loaded cuDNN version 90300\n"
     ]
    }
   ],
   "source": [
    "import os\n",
    "import sys\n",
    "import joblib\n",
    "from tqdm import tqdm\n",
    "import itertools\n",
    "import numpy as np\n",
    "import pandas as pd\n",
    "from datetime import datetime\n",
    "\n",
    "import warnings\n",
    "\n",
    "# Silence that specific PyDataset warning\n",
    "warnings.filterwarnings(\n",
    "    \"ignore\",\n",
    "    category=UserWarning\n",
    ")\n",
    "\n",
    "# Full suppression of GPU logs at OS level\n",
    "sys.stderr = open(os.devnull, \"w\")\n",
    "os.environ[\"TF_CPP_MIN_LOG_LEVEL\"] = \"3\"\n",
    "os.environ[\"TF_ENABLE_ONEDNN_OPTS\"] = \"0\"\n",
    "sys.path.append(os.path.abspath(os.path.join(os.getcwd(), '..')))\n",
    "\n",
    "from utils.hybrid_anomaly_util import *\n",
    "from utils.utilities import load_model_outputs\n",
    "\n",
    "from sklearn.preprocessing import StandardScaler\n",
    "\n",
    "from tensorflow.keras.preprocessing.sequence import TimeseriesGenerator\n",
    "from tensorflow.keras.callbacks import Callback\n",
    "from tqdm.notebook import tqdm\n",
    "\n",
    "class TQDMProgressBar(Callback):\n",
    "    def on_train_begin(self, logs=None):\n",
    "        self.epochs = self.params['epochs']\n",
    "        self.progress_bar = tqdm(total=self.epochs, desc='Training Progress', unit='epoch')\n",
    "\n",
    "    def on_epoch_end(self, epoch, logs=None):\n",
    "        self.progress_bar.update(1)\n",
    "        loss = logs.get('loss')\n",
    "        self.progress_bar.set_postfix({'loss': f'{loss:.4f}'})\n",
    "\n",
    "    def on_train_end(self, logs=None):\n",
    "        self.progress_bar.close()\n",
    "\n",
    "ABS_PATH      = \"/home/tristan/Desktop/SpringBoard/Projects/Martian-Weather-Analysis/\"\n",
    "DATA_PATH     = os.path.join(ABS_PATH, \"data/processed/\")\n",
    "MODEL_PATH    = os.path.join(ABS_PATH, \"models/\")\n",
    "LOG_PATH_ROOT = os.path.join(ABS_PATH, \"logs/\")\n",
    "lstm_log_path = os.path.join(LOG_PATH_ROOT, \"lstm_training.log\")"
   ]
  },
  {
   "cell_type": "code",
   "execution_count": 2,
   "id": "c8ac4b97-7a57-4830-bf49-6bea3133c2de",
   "metadata": {},
   "outputs": [
    {
     "name": "stdout",
     "output_type": "stream",
     "text": [
      "Loaded outputs for SARIMA from model_outputs/\n",
      "Loaded outputs for SARIMAX from model_outputs/\n"
     ]
    }
   ],
   "source": [
    "# Load in data\n",
    "y_true_sarima, y_pred_sarima, residuals_sarima, metrics_sarima = load_model_outputs(\"SARIMA\")\n",
    "y_true_sarimax, y_pred_sarimax, residuals_sarimax, metrics_sarimax = load_model_outputs(\"SARIMAX\")"
   ]
  },
  {
   "cell_type": "code",
   "execution_count": 3,
   "id": "ce3d6482-b773-4b51-a7da-4619db8a830e",
   "metadata": {},
   "outputs": [],
   "source": [
    "# Configure residuals for Hybrid\n",
    "# --- SARIMA --- \n",
    "r1 = y_true_sarima - y_pred_sarima\n",
    "r1 = r1.reshape(-1,1) # SARIMA\n",
    "\n",
    "s1 = StandardScaler()\n",
    "r1_scaled = s1.fit_transform(r1)\n",
    "\n",
    "# --- SARIMAX ---\n",
    "r2 = y_true_sarimax - y_pred_sarimax\n",
    "r2 = r2.reshape(-1,1)\n",
    "\n",
    "s2 = StandardScaler()\n",
    "r2_scaled = s2.fit_transform(r2)"
   ]
  },
  {
   "cell_type": "markdown",
   "id": "609365c9-3f0f-442f-a84a-d63217db7c83",
   "metadata": {},
   "source": [
    "## SARIMA + LSTM"
   ]
  },
  {
   "cell_type": "code",
   "execution_count": 4,
   "id": "59d5608d-eafd-425c-8ce0-530308944af5",
   "metadata": {},
   "outputs": [
    {
     "name": "stdout",
     "output_type": "stream",
     "text": [
      "Number of training sequences\n",
      "______________________________\n",
      "SARIMA Based: 20\n",
      "------------------------------\n",
      "SARIMAX Based: 20\n",
      "______________________________\n"
     ]
    }
   ],
   "source": [
    "# Define sequence length\n",
    "seq_len = 30\n",
    "batch_size = 32\n",
    "\n",
    "# --- SARIMA Based ---\n",
    "r1_seq_gen = TimeseriesGenerator(\n",
    "    r1_scaled, r1_scaled,\n",
    "    length=seq_len,\n",
    "    batch_size=batch_size\n",
    ")\n",
    "print(\"Number of training sequences\")\n",
    "print(\"___\" * 10)\n",
    "print(f\"SARIMA Based: {len(r1_seq_gen)}\")\n",
    "print(\"---\" * 10)\n",
    "\n",
    "# --- SARIMAX Based ---\n",
    "r2_seq_gen = TimeseriesGenerator(\n",
    "    r2_scaled, r2_scaled,\n",
    "    length=seq_len,\n",
    "    batch_size=batch_size\n",
    ")\n",
    "print(f\"SARIMAX Based: {len(r2_seq_gen)}\")\n",
    "print(\"___\" * 10)\n"
   ]
  },
  {
   "cell_type": "markdown",
   "id": "75dae8b4-9ecf-45d8-8f3a-c3cafbf05aa6",
   "metadata": {},
   "source": [
    "## SARIMA + LSTM"
   ]
  },
  {
   "cell_type": "code",
   "execution_count": 5,
   "id": "9d1aba2a-922c-46a9-aa82-d989061f4415",
   "metadata": {},
   "outputs": [],
   "source": [
    "# Define input dimensions\n",
    "n_features = 1  # Residual is 1D\n",
    "epochs = 20\n",
    "\n",
    "# --- Build models ---\n",
    "lstm_auto_sarima  = create_lstm_autoencoder(seq_len, n_features)\n",
    "lstm_auto_sarimax = create_lstm_autoencoder(seq_len, n_features)"
   ]
  },
  {
   "cell_type": "markdown",
   "id": "3ebc699c-ce57-484d-861f-77c191bbf20d",
   "metadata": {},
   "source": [
    "## SARIMAX + LSTM"
   ]
  },
  {
   "cell_type": "code",
   "execution_count": 6,
   "id": "7ad4232f-21e5-402f-9e78-817083060753",
   "metadata": {},
   "outputs": [
    {
     "name": "stdout",
     "output_type": "stream",
     "text": [
      "Training SARIMA-based LSTM autoencoder...\n"
     ]
    },
    {
     "data": {
      "application/vnd.jupyter.widget-view+json": {
       "model_id": "5ffb9c2abdd04d89befb42f2c5fec2c6",
       "version_major": 2,
       "version_minor": 0
      },
      "text/plain": [
       "Training Progress:   0%|          | 0/20 [00:00<?, ?epoch/s]"
      ]
     },
     "metadata": {},
     "output_type": "display_data"
    },
    {
     "name": "stdout",
     "output_type": "stream",
     "text": [
      "____________________________________________________________\n",
      "\n",
      "Training SARIMAX-based LSTM autoencoder...\n"
     ]
    },
    {
     "data": {
      "application/vnd.jupyter.widget-view+json": {
       "model_id": "73196db58e4d411788c06f72632ca476",
       "version_major": 2,
       "version_minor": 0
      },
      "text/plain": [
       "Training Progress:   0%|          | 0/20 [00:00<?, ?epoch/s]"
      ]
     },
     "metadata": {},
     "output_type": "display_data"
    }
   ],
   "source": [
    "# Instantiate the callback\n",
    "tqdm_callback = TQDMProgressBar()\n",
    "\n",
    "# --- Train SARIMA-based Autoencoder ---\n",
    "print(\"Training SARIMA-based LSTM autoencoder...\")\n",
    "history_sarima = lstm_auto_sarima.fit(\n",
    "    r1_seq_gen,\n",
    "    epochs=epochs,\n",
    "    verbose=0,\n",
    "    callbacks=[tqdm_callback]\n",
    ")\n",
    "\n",
    "print(\"___\" * 20)\n",
    "\n",
    "# --- Train SARIMAX-based Autoencoder ---\n",
    "print(\"\\nTraining SARIMAX-based LSTM autoencoder...\")\n",
    "history_sarimax = lstm_auto_sarimax.fit(\n",
    "    r2_seq_gen,\n",
    "    epochs=epochs,\n",
    "    verbose=0,\n",
    "    callbacks=[tqdm_callback]\n",
    ")\n"
   ]
  },
  {
   "cell_type": "code",
   "execution_count": 7,
   "id": "1c748b57-865e-4a9c-9a11-cf872ef7fa64",
   "metadata": {},
   "outputs": [
    {
     "data": {
      "image/png": "[encoded data removed]",
      "text/plain": [
       "<Figure size 640x480 with 1 Axes>"
      ]
     },
     "metadata": {},
     "output_type": "display_data"
    }
   ],
   "source": [
    "import matplotlib.pyplot as plt\n",
    "\n",
    "plt.plot(history_sarima.history['loss'], label='SARIMA Loss')\n",
    "plt.plot(history_sarimax.history['loss'], label='SARIMAX Loss')\n",
    "plt.xlabel(\"Epoch\")\n",
    "plt.ylabel(\"Loss (MAE)\")\n",
    "plt.title(\"Training Loss - LSTM Autoencoders\")\n",
    "plt.legend()\n",
    "plt.grid(True)\n",
    "plt.tight_layout()\n",
    "plt.show()\n"
   ]
  },
  {
   "cell_type": "code",
   "execution_count": null,
   "id": "25643e4a-08de-42c1-9672-ee15f53882cb",
   "metadata": {},
   "outputs": [],
   "source": [
    "# SARIMA-based\n",
    "errors_sarima = compute_reconstruction_errors(lstm_auto_sarima, r1_seq_gen)\n",
    "print(\"Complete\")"
   ]
  },
  {
   "cell_type": "code",
   "execution_count": null,
   "id": "834baca9-9f99-48f2-894c-20ba1b11dadb",
   "metadata": {},
   "outputs": [],
   "source": [
    "len(r2_seq_gen)"
   ]
  },
  {
   "cell_type": "code",
   "execution_count": null,
   "id": "928cf5f3-fa9b-40f3-b436-0afed78ad14a",
   "metadata": {},
   "outputs": [],
   "source": [
    "# SARIMAX-based\n",
    "errors_sarimax = compute_reconstruction_errors(lstm_auto_sarimax, r2_seq_gen)"
   ]
  },
  {
   "cell_type": "code",
   "execution_count": null,
   "id": "e4fcff92-3b7f-4719-b541-48423e918f08",
   "metadata": {},
   "outputs": [],
   "source": [
    "plt.figure(figsize=(12, 5))\n",
    "plt.hist(errors_sarima, bins=50, alpha=0.6, label='SARIMA Errors')\n",
    "plt.hist(errors_sarimax, bins=50, alpha=0.6, label='SARIMAX Errors')\n",
    "plt.axvline(np.percentile(errors_sarima, 95), color='red', linestyle='--', label='SARIMA 95% Threshold')\n",
    "plt.axvline(np.percentile(errors_sarimax, 95), color='blue', linestyle='--', label='SARIMAX 95% Threshold')\n",
    "plt.title(\"Reconstruction Error Distributions\")\n",
    "plt.xlabel(\"Reconstruction Error (MAE)\")\n",
    "plt.ylabel(\"Count\")\n",
    "plt.legend()\n",
    "plt.grid(True)\n",
    "plt.tight_layout()\n",
    "plt.show()"
   ]
  }
 ],
 "metadata": {
  "kernelspec": {
   "display_name": "Python 3 (ipykernel)",
   "language": "python",
   "name": "python3"
  },
  "language_info": {
   "codemirror_mode": {
    "name": "ipython",
    "version": 3
   },
   "file_extension": ".py",
   "mimetype": "text/x-python",
   "name": "python",
   "nbconvert_exporter": "python",
   "pygments_lexer": "ipython3",
   "version": "3.10.17"
  }
 },
 "nbformat": 4,
 "nbformat_minor": 5
}
