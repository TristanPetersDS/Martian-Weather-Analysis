{
 "cells": [
  {
   "cell_type": "code",
   "execution_count": 1,
   "id": "ba4336c3-3e2b-485c-b600-5f23797237f6",
   "metadata": {},
   "outputs": [
    {
     "name": "stdout",
     "output_type": "stream",
     "text": [
      "         earth_date_time           mars_date_time sol_number  \\\n",
      "0  Earth, 2022-01-26 UTC  Mars, Month 6 - LS 163°   Sol 3368   \n",
      "1  Earth, 2022-01-25 UTC  Mars, Month 6 - LS 163°   Sol 3367   \n",
      "2  Earth, 2022-01-24 UTC  Mars, Month 6 - LS 162°   Sol 3366   \n",
      "3  Earth, 2022-01-23 UTC  Mars, Month 6 - LS 162°   Sol 3365   \n",
      "4  Earth, 2022-01-22 UTC  Mars, Month 6 - LS 161°   Sol 3364   \n",
      "\n",
      "  max_ground_temp(°C) min_ground_temp(°C) max_air_temp(°C) min_air_temp(°C)  \\\n",
      "0                  -3                 -71               10              -84   \n",
      "1                  -3                 -72               10              -87   \n",
      "2                  -4                 -70                8              -81   \n",
      "3                  -6                 -70                9              -91   \n",
      "4                  -7                 -71                8              -92   \n",
      "\n",
      "  mean_pressure(Pa)      wind_speed(m/h)          humidity(%) sunrise sunset  \\\n",
      "0               707  Value not available  Value not available   05:25  17:20   \n",
      "1               707  Value not available  Value not available   05:25  17:20   \n",
      "2               708  Value not available  Value not available   05:25  17:21   \n",
      "3               707  Value not available  Value not available   05:26  17:21   \n",
      "4               708  Value not available  Value not available   05:26  17:21   \n",
      "\n",
      "  UV_Radiation weather  \n",
      "0     moderate   Sunny  \n",
      "1     moderate   Sunny  \n",
      "2     moderate   Sunny  \n",
      "3     moderate   Sunny  \n",
      "4     moderate   Sunny  \n"
     ]
    }
   ],
   "source": [
    "import pandas as pd\n",
    "from library.utilities import check_missing\n",
    "\n",
    "# Specify the path to your CSV file\n",
    "file_path = '../Datasets/REMS_Mars_Dataset.csv'\n",
    "\n",
    "# Load the CSV file into a Pandas DataFrame\n",
    "mars_df = pd.read_csv(file_path)\n",
    "\n",
    "# Display the first few rows to confirm successful import\n",
    "print(mars_df.head())"
   ]
  },
  {
   "cell_type": "code",
   "execution_count": 2,
   "id": "6c64fdfc-b69c-4d2f-980c-243b416fc43d",
   "metadata": {},
   "outputs": [
    {
     "data": {
      "text/html": [
       "<div>\n",
       "<style scoped>\n",
       "    .dataframe tbody tr th:only-of-type {\n",
       "        vertical-align: middle;\n",
       "    }\n",
       "\n",
       "    .dataframe tbody tr th {\n",
       "        vertical-align: top;\n",
       "    }\n",
       "\n",
       "    .dataframe thead th {\n",
       "        text-align: right;\n",
       "    }\n",
       "</style>\n",
       "<table border=\"1\" class=\"dataframe\">\n",
       "  <thead>\n",
       "    <tr style=\"text-align: right;\">\n",
       "      <th></th>\n",
       "      <th>earth_date_time</th>\n",
       "      <th>mars_date_time</th>\n",
       "      <th>sol_number</th>\n",
       "      <th>max_ground_temp(°C)</th>\n",
       "      <th>min_ground_temp(°C)</th>\n",
       "      <th>max_air_temp(°C)</th>\n",
       "      <th>min_air_temp(°C)</th>\n",
       "      <th>mean_pressure(Pa)</th>\n",
       "      <th>wind_speed(m/h)</th>\n",
       "      <th>humidity(%)</th>\n",
       "      <th>sunrise</th>\n",
       "      <th>sunset</th>\n",
       "      <th>UV_Radiation</th>\n",
       "      <th>weather</th>\n",
       "    </tr>\n",
       "  </thead>\n",
       "  <tbody>\n",
       "    <tr>\n",
       "      <th>count</th>\n",
       "      <td>3197</td>\n",
       "      <td>3197</td>\n",
       "      <td>3197</td>\n",
       "      <td>3197</td>\n",
       "      <td>3197</td>\n",
       "      <td>3197</td>\n",
       "      <td>3197</td>\n",
       "      <td>3197</td>\n",
       "      <td>3197</td>\n",
       "      <td>3197</td>\n",
       "      <td>3197</td>\n",
       "      <td>3197</td>\n",
       "      <td>3170</td>\n",
       "      <td>3197</td>\n",
       "    </tr>\n",
       "    <tr>\n",
       "      <th>unique</th>\n",
       "      <td>3197</td>\n",
       "      <td>360</td>\n",
       "      <td>3197</td>\n",
       "      <td>52</td>\n",
       "      <td>40</td>\n",
       "      <td>51</td>\n",
       "      <td>78</td>\n",
       "      <td>224</td>\n",
       "      <td>1</td>\n",
       "      <td>1</td>\n",
       "      <td>90</td>\n",
       "      <td>96</td>\n",
       "      <td>4</td>\n",
       "      <td>2</td>\n",
       "    </tr>\n",
       "    <tr>\n",
       "      <th>top</th>\n",
       "      <td>Earth, 2022-01-26 UTC</td>\n",
       "      <td>Mars, Month 3 - LS 86°</td>\n",
       "      <td>Sol 3368</td>\n",
       "      <td>-6</td>\n",
       "      <td>-79</td>\n",
       "      <td>14</td>\n",
       "      <td>-78</td>\n",
       "      <td>873</td>\n",
       "      <td>Value not available</td>\n",
       "      <td>Value not available</td>\n",
       "      <td>05:18</td>\n",
       "      <td>17:20</td>\n",
       "      <td>moderate</td>\n",
       "      <td>Sunny</td>\n",
       "    </tr>\n",
       "    <tr>\n",
       "      <th>freq</th>\n",
       "      <td>1</td>\n",
       "      <td>12</td>\n",
       "      <td>1</td>\n",
       "      <td>130</td>\n",
       "      <td>221</td>\n",
       "      <td>154</td>\n",
       "      <td>165</td>\n",
       "      <td>47</td>\n",
       "      <td>3197</td>\n",
       "      <td>3197</td>\n",
       "      <td>170</td>\n",
       "      <td>199</td>\n",
       "      <td>1450</td>\n",
       "      <td>3194</td>\n",
       "    </tr>\n",
       "  </tbody>\n",
       "</table>\n",
       "</div>"
      ],
      "text/plain": [
       "              earth_date_time          mars_date_time sol_number  \\\n",
       "count                    3197                    3197       3197   \n",
       "unique                   3197                     360       3197   \n",
       "top     Earth, 2022-01-26 UTC  Mars, Month 3 - LS 86°   Sol 3368   \n",
       "freq                        1                      12          1   \n",
       "\n",
       "       max_ground_temp(°C) min_ground_temp(°C) max_air_temp(°C)  \\\n",
       "count                 3197                3197             3197   \n",
       "unique                  52                  40               51   \n",
       "top                     -6                 -79               14   \n",
       "freq                   130                 221              154   \n",
       "\n",
       "       min_air_temp(°C) mean_pressure(Pa)      wind_speed(m/h)  \\\n",
       "count              3197              3197                 3197   \n",
       "unique               78               224                    1   \n",
       "top                 -78               873  Value not available   \n",
       "freq                165                47                 3197   \n",
       "\n",
       "                humidity(%) sunrise sunset UV_Radiation weather  \n",
       "count                  3197    3197   3197         3170    3197  \n",
       "unique                    1      90     96            4       2  \n",
       "top     Value not available   05:18  17:20     moderate   Sunny  \n",
       "freq                   3197     170    199         1450    3194  "
      ]
     },
     "execution_count": 2,
     "metadata": {},
     "output_type": "execute_result"
    }
   ],
   "source": [
    "mars_df.describe()"
   ]
  },
  {
   "cell_type": "code",
   "execution_count": 3,
   "id": "3693476e-3518-49f6-a963-91fe58cac23a",
   "metadata": {},
   "outputs": [
    {
     "name": "stdout",
     "output_type": "stream",
     "text": [
      "<class 'pandas.core.frame.DataFrame'>\n",
      "RangeIndex: 3197 entries, 0 to 3196\n",
      "Data columns (total 14 columns):\n",
      " #   Column               Non-Null Count  Dtype \n",
      "---  ------               --------------  ----- \n",
      " 0   earth_date_time      3197 non-null   object\n",
      " 1   mars_date_time       3197 non-null   object\n",
      " 2   sol_number           3197 non-null   object\n",
      " 3   max_ground_temp(°C)  3197 non-null   object\n",
      " 4   min_ground_temp(°C)  3197 non-null   object\n",
      " 5   max_air_temp(°C)     3197 non-null   object\n",
      " 6   min_air_temp(°C)     3197 non-null   object\n",
      " 7   mean_pressure(Pa)    3197 non-null   object\n",
      " 8   wind_speed(m/h)      3197 non-null   object\n",
      " 9   humidity(%)          3197 non-null   object\n",
      " 10  sunrise              3197 non-null   object\n",
      " 11  sunset               3197 non-null   object\n",
      " 12  UV_Radiation         3170 non-null   object\n",
      " 13  weather              3197 non-null   object\n",
      "dtypes: object(14)\n",
      "memory usage: 349.8+ KB\n"
     ]
    }
   ],
   "source": [
    "mars_df.info()"
   ]
  },
  {
   "cell_type": "code",
   "execution_count": 4,
   "id": "b3204398-0438-4f48-b1f5-c283a33b051b",
   "metadata": {},
   "outputs": [
    {
     "name": "stdout",
     "output_type": "stream",
     "text": [
      "                     Count         %\n",
      "UV_Radiation            27  0.844542\n",
      "earth_date_time          0  0.000000\n",
      "mars_date_time           0  0.000000\n",
      "sol_number               0  0.000000\n",
      "max_ground_temp(°C)      0  0.000000\n",
      "min_ground_temp(°C)      0  0.000000\n",
      "max_air_temp(°C)         0  0.000000\n",
      "min_air_temp(°C)         0  0.000000\n",
      "mean_pressure(Pa)        0  0.000000\n",
      "wind_speed(m/h)          0  0.000000\n",
      "humidity(%)              0  0.000000\n",
      "sunrise                  0  0.000000\n",
      "sunset                   0  0.000000\n",
      "weather                  0  0.000000\n"
     ]
    }
   ],
   "source": [
    "missing = pd.concat([mars_df.isnull().sum(), 100 * mars_df.isnull().mean()], axis=1)\n",
    "missing.columns = ['Count', '%']\n",
    "missing = missing.sort_values(by='%', ascending=False)\n",
    "print(missing)"
   ]
  },
  {
   "cell_type": "code",
   "execution_count": 5,
   "id": "b9e74052-4551-4048-bf24-89d588cb9d54",
   "metadata": {},
   "outputs": [
    {
     "name": "stdout",
     "output_type": "stream",
     "text": [
      "                     NaN Count  \"Value not available\" Count  \\\n",
      "wind_speed(m/h)              0                         3197   \n",
      "humidity(%)                  0                         3197   \n",
      "max_air_temp(°C)             0                           29   \n",
      "min_air_temp(°C)             0                           29   \n",
      "max_ground_temp(°C)          0                           28   \n",
      "min_ground_temp(°C)          0                           28   \n",
      "mean_pressure(Pa)            0                           27   \n",
      "UV_Radiation                27                            0   \n",
      "weather                      0                            3   \n",
      "earth_date_time              0                            0   \n",
      "mars_date_time               0                            0   \n",
      "sol_number                   0                            0   \n",
      "sunrise                      0                            0   \n",
      "sunset                       0                            0   \n",
      "\n",
      "                     Total % Missing or Unavailable  \n",
      "wind_speed(m/h)                          100.000000  \n",
      "humidity(%)                              100.000000  \n",
      "max_air_temp(°C)                           0.907100  \n",
      "min_air_temp(°C)                           0.907100  \n",
      "max_ground_temp(°C)                        0.875821  \n",
      "min_ground_temp(°C)                        0.875821  \n",
      "mean_pressure(Pa)                          0.844542  \n",
      "UV_Radiation                               0.844542  \n",
      "weather                                    0.093838  \n",
      "earth_date_time                            0.000000  \n",
      "mars_date_time                             0.000000  \n",
      "sol_number                                 0.000000  \n",
      "sunrise                                    0.000000  \n",
      "sunset                                     0.000000  \n"
     ]
    }
   ],
   "source": [
    "# Check for missing values and \"Value not available\"\n",
    "missing_or_unavailable = pd.concat([\n",
    "    mars_df.isnull().sum(),  # Count of NaN values\n",
    "    mars_df.eq(\"Value not available\").sum(),  # Count of \"Value not available\"\n",
    "    100 * (mars_df.isnull().mean() + mars_df.eq(\"Value not available\").mean())  # Percentage of missing or unavailable\n",
    "], axis=1)\n",
    "\n",
    "# Rename columns\n",
    "missing_or_unavailable.columns = ['NaN Count', '\"Value not available\" Count', 'Total % Missing or Unavailable']\n",
    "\n",
    "# Sort by percentage of missing or unavailable values\n",
    "missing_or_unavailable = missing_or_unavailable.sort_values(by='Total % Missing or Unavailable', ascending=False)\n",
    "\n",
    "# Display the result\n",
    "print(missing_or_unavailable)\n"
   ]
  },
  {
   "cell_type": "code",
   "execution_count": 6,
   "id": "1fe22abc-baaa-4856-a932-c91347dbb9a8",
   "metadata": {},
   "outputs": [
    {
     "name": "stdout",
     "output_type": "stream",
     "text": [
      "Number of unique values in 'column_name': earth_date_time        3197\n",
      "mars_date_time          360\n",
      "sol_number             3197\n",
      "max_ground_temp(°C)      52\n",
      "min_ground_temp(°C)      40\n",
      "max_air_temp(°C)         51\n",
      "min_air_temp(°C)         78\n",
      "mean_pressure(Pa)       224\n",
      "wind_speed(m/h)           1\n",
      "humidity(%)               1\n",
      "sunrise                  90\n",
      "sunset                   96\n",
      "UV_Radiation              4\n",
      "weather                   2\n",
      "dtype: int64\n"
     ]
    }
   ],
   "source": [
    "# Check the number of unique values in a specific column\n",
    "unique_values_count = mars_df.nunique()\n",
    "print(f\"Number of unique values in 'column_name': {unique_values_count}\")\n"
   ]
  },
  {
   "cell_type": "code",
   "execution_count": 7,
   "id": "350c572c-51fd-4f72-84a3-eb92dd6aee61",
   "metadata": {},
   "outputs": [
    {
     "name": "stdout",
     "output_type": "stream",
     "text": [
      "Unique UV Radiation Readings:  ['moderate' 'low' 'high' 'very_high' nan]\n",
      "Unique Weather Readings:  ['Sunny' 'Value not available']\n",
      "Unique Wind Speed Readings:  ['Value not available']\n",
      "Unique Humidity Readings:  ['Value not available']\n"
     ]
    }
   ],
   "source": [
    "print(\"Unique UV Radiation Readings: \", mars_df['UV_Radiation'].unique())\n",
    "print(\"Unique Weather Readings: \", mars_df['weather'].unique())\n",
    "print(\"Unique Wind Speed Readings: \", mars_df['wind_speed(m/h)'].unique())\n",
    "print(\"Unique Humidity Readings: \", mars_df['humidity(%)'].unique())"
   ]
  },
  {
   "cell_type": "code",
   "execution_count": 8,
   "id": "41791164-8220-4ff9-9e37-f0064889dfc9",
   "metadata": {},
   "outputs": [],
   "source": [
    "columns_to_drop = ['wind_speed(m/h)', 'humidity(%)', 'weather']\n",
    "mars_df.drop(columns=columns_to_drop, inplace=True)"
   ]
  },
  {
   "cell_type": "code",
   "execution_count": 9,
   "id": "71dd4fc8-d496-42d0-a576-cc0ecb730035",
   "metadata": {},
   "outputs": [
    {
     "name": "stdout",
     "output_type": "stream",
     "text": [
      "                     NaN Count  \"Value not available\" Count  \\\n",
      "max_air_temp(°C)             0                           29   \n",
      "min_air_temp(°C)             0                           29   \n",
      "max_ground_temp(°C)          0                           28   \n",
      "min_ground_temp(°C)          0                           28   \n",
      "mean_pressure(Pa)            0                           27   \n",
      "UV_Radiation                27                            0   \n",
      "earth_date_time              0                            0   \n",
      "mars_date_time               0                            0   \n",
      "sol_number                   0                            0   \n",
      "sunrise                      0                            0   \n",
      "sunset                       0                            0   \n",
      "\n",
      "                     Total % Missing or Unavailable  \n",
      "max_air_temp(°C)                           0.907100  \n",
      "min_air_temp(°C)                           0.907100  \n",
      "max_ground_temp(°C)                        0.875821  \n",
      "min_ground_temp(°C)                        0.875821  \n",
      "mean_pressure(Pa)                          0.844542  \n",
      "UV_Radiation                               0.844542  \n",
      "earth_date_time                            0.000000  \n",
      "mars_date_time                             0.000000  \n",
      "sol_number                                 0.000000  \n",
      "sunrise                                    0.000000  \n",
      "sunset                                     0.000000  \n"
     ]
    }
   ],
   "source": [
    "mars_df.head()\n",
    "\n",
    "print(check_missing(mars_df))"
   ]
  },
  {
   "cell_type": "code",
   "execution_count": null,
   "id": "b67e70ab-69b7-40f8-8faa-9acda3d2de08",
   "metadata": {},
   "outputs": [],
   "source": [
    "# Reformat sol_number and set as index"
   ]
  }
 ],
 "metadata": {
  "kernelspec": {
   "display_name": "Python 3 (ipykernel)",
   "language": "python",
   "name": "python3"
  },
  "language_info": {
   "codemirror_mode": {
    "name": "ipython",
    "version": 3
   },
   "file_extension": ".py",
   "mimetype": "text/x-python",
   "name": "python",
   "nbconvert_exporter": "python",
   "pygments_lexer": "ipython3",
   "version": "3.10.6"
  }
 },
 "nbformat": 4,
 "nbformat_minor": 5
}
