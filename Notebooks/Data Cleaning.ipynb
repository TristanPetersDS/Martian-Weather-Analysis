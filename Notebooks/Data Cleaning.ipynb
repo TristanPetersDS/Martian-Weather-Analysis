{
 "cells": [
  {
   "cell_type": "code",
   "execution_count": 1,
   "id": "ba4336c3-3e2b-485c-b600-5f23797237f6",
   "metadata": {},
   "outputs": [
    {
     "name": "stdout",
     "output_type": "stream",
     "text": [
      "         earth_date_time           mars_date_time sol_number  \\\n",
      "0  Earth, 2022-01-26 UTC  Mars, Month 6 - LS 163°   Sol 3368   \n",
      "1  Earth, 2022-01-25 UTC  Mars, Month 6 - LS 163°   Sol 3367   \n",
      "2  Earth, 2022-01-24 UTC  Mars, Month 6 - LS 162°   Sol 3366   \n",
      "3  Earth, 2022-01-23 UTC  Mars, Month 6 - LS 162°   Sol 3365   \n",
      "4  Earth, 2022-01-22 UTC  Mars, Month 6 - LS 161°   Sol 3364   \n",
      "\n",
      "  max_ground_temp(°C) min_ground_temp(°C) max_air_temp(°C) min_air_temp(°C)  \\\n",
      "0                  -3                 -71               10              -84   \n",
      "1                  -3                 -72               10              -87   \n",
      "2                  -4                 -70                8              -81   \n",
      "3                  -6                 -70                9              -91   \n",
      "4                  -7                 -71                8              -92   \n",
      "\n",
      "  mean_pressure(Pa)      wind_speed(m/h)          humidity(%) sunrise sunset  \\\n",
      "0               707  Value not available  Value not available   05:25  17:20   \n",
      "1               707  Value not available  Value not available   05:25  17:20   \n",
      "2               708  Value not available  Value not available   05:25  17:21   \n",
      "3               707  Value not available  Value not available   05:26  17:21   \n",
      "4               708  Value not available  Value not available   05:26  17:21   \n",
      "\n",
      "  UV_Radiation weather  \n",
      "0     moderate   Sunny  \n",
      "1     moderate   Sunny  \n",
      "2     moderate   Sunny  \n",
      "3     moderate   Sunny  \n",
      "4     moderate   Sunny  \n"
     ]
    }
   ],
   "source": [
    "import pandas as pd\n",
    "import numpy as np\n",
    "from library.utilities import check_missing\n",
    "\n",
    "# Specify the path to your CSV file\n",
    "file_path = '../Datasets/REMS_Mars_Dataset.csv'\n",
    "\n",
    "# Load the CSV file into a Pandas DataFrame\n",
    "mars_df = pd.read_csv(file_path)\n",
    "\n",
    "# Display the first few rows to confirm successful import\n",
    "print(mars_df.head())"
   ]
  },
  {
   "cell_type": "code",
   "execution_count": 2,
   "id": "6c64fdfc-b69c-4d2f-980c-243b416fc43d",
   "metadata": {},
   "outputs": [
    {
     "data": {
      "text/html": [
       "<div>\n",
       "<style scoped>\n",
       "    .dataframe tbody tr th:only-of-type {\n",
       "        vertical-align: middle;\n",
       "    }\n",
       "\n",
       "    .dataframe tbody tr th {\n",
       "        vertical-align: top;\n",
       "    }\n",
       "\n",
       "    .dataframe thead th {\n",
       "        text-align: right;\n",
       "    }\n",
       "</style>\n",
       "<table border=\"1\" class=\"dataframe\">\n",
       "  <thead>\n",
       "    <tr style=\"text-align: right;\">\n",
       "      <th></th>\n",
       "      <th>earth_date_time</th>\n",
       "      <th>mars_date_time</th>\n",
       "      <th>sol_number</th>\n",
       "      <th>max_ground_temp(°C)</th>\n",
       "      <th>min_ground_temp(°C)</th>\n",
       "      <th>max_air_temp(°C)</th>\n",
       "      <th>min_air_temp(°C)</th>\n",
       "      <th>mean_pressure(Pa)</th>\n",
       "      <th>wind_speed(m/h)</th>\n",
       "      <th>humidity(%)</th>\n",
       "      <th>sunrise</th>\n",
       "      <th>sunset</th>\n",
       "      <th>UV_Radiation</th>\n",
       "      <th>weather</th>\n",
       "    </tr>\n",
       "  </thead>\n",
       "  <tbody>\n",
       "    <tr>\n",
       "      <th>count</th>\n",
       "      <td>3197</td>\n",
       "      <td>3197</td>\n",
       "      <td>3197</td>\n",
       "      <td>3197</td>\n",
       "      <td>3197</td>\n",
       "      <td>3197</td>\n",
       "      <td>3197</td>\n",
       "      <td>3197</td>\n",
       "      <td>3197</td>\n",
       "      <td>3197</td>\n",
       "      <td>3197</td>\n",
       "      <td>3197</td>\n",
       "      <td>3170</td>\n",
       "      <td>3197</td>\n",
       "    </tr>\n",
       "    <tr>\n",
       "      <th>unique</th>\n",
       "      <td>3197</td>\n",
       "      <td>360</td>\n",
       "      <td>3197</td>\n",
       "      <td>52</td>\n",
       "      <td>40</td>\n",
       "      <td>51</td>\n",
       "      <td>78</td>\n",
       "      <td>224</td>\n",
       "      <td>1</td>\n",
       "      <td>1</td>\n",
       "      <td>90</td>\n",
       "      <td>96</td>\n",
       "      <td>4</td>\n",
       "      <td>2</td>\n",
       "    </tr>\n",
       "    <tr>\n",
       "      <th>top</th>\n",
       "      <td>Earth, 2022-01-26 UTC</td>\n",
       "      <td>Mars, Month 3 - LS 86°</td>\n",
       "      <td>Sol 3368</td>\n",
       "      <td>-6</td>\n",
       "      <td>-79</td>\n",
       "      <td>14</td>\n",
       "      <td>-78</td>\n",
       "      <td>873</td>\n",
       "      <td>Value not available</td>\n",
       "      <td>Value not available</td>\n",
       "      <td>05:18</td>\n",
       "      <td>17:20</td>\n",
       "      <td>moderate</td>\n",
       "      <td>Sunny</td>\n",
       "    </tr>\n",
       "    <tr>\n",
       "      <th>freq</th>\n",
       "      <td>1</td>\n",
       "      <td>12</td>\n",
       "      <td>1</td>\n",
       "      <td>130</td>\n",
       "      <td>221</td>\n",
       "      <td>154</td>\n",
       "      <td>165</td>\n",
       "      <td>47</td>\n",
       "      <td>3197</td>\n",
       "      <td>3197</td>\n",
       "      <td>170</td>\n",
       "      <td>199</td>\n",
       "      <td>1450</td>\n",
       "      <td>3194</td>\n",
       "    </tr>\n",
       "  </tbody>\n",
       "</table>\n",
       "</div>"
      ],
      "text/plain": [
       "              earth_date_time          mars_date_time sol_number  \\\n",
       "count                    3197                    3197       3197   \n",
       "unique                   3197                     360       3197   \n",
       "top     Earth, 2022-01-26 UTC  Mars, Month 3 - LS 86°   Sol 3368   \n",
       "freq                        1                      12          1   \n",
       "\n",
       "       max_ground_temp(°C) min_ground_temp(°C) max_air_temp(°C)  \\\n",
       "count                 3197                3197             3197   \n",
       "unique                  52                  40               51   \n",
       "top                     -6                 -79               14   \n",
       "freq                   130                 221              154   \n",
       "\n",
       "       min_air_temp(°C) mean_pressure(Pa)      wind_speed(m/h)  \\\n",
       "count              3197              3197                 3197   \n",
       "unique               78               224                    1   \n",
       "top                 -78               873  Value not available   \n",
       "freq                165                47                 3197   \n",
       "\n",
       "                humidity(%) sunrise sunset UV_Radiation weather  \n",
       "count                  3197    3197   3197         3170    3197  \n",
       "unique                    1      90     96            4       2  \n",
       "top     Value not available   05:18  17:20     moderate   Sunny  \n",
       "freq                   3197     170    199         1450    3194  "
      ]
     },
     "execution_count": 2,
     "metadata": {},
     "output_type": "execute_result"
    }
   ],
   "source": [
    "mars_df.describe()"
   ]
  },
  {
   "cell_type": "code",
   "execution_count": 3,
   "id": "3693476e-3518-49f6-a963-91fe58cac23a",
   "metadata": {},
   "outputs": [
    {
     "name": "stdout",
     "output_type": "stream",
     "text": [
      "<class 'pandas.core.frame.DataFrame'>\n",
      "RangeIndex: 3197 entries, 0 to 3196\n",
      "Data columns (total 14 columns):\n",
      " #   Column               Non-Null Count  Dtype \n",
      "---  ------               --------------  ----- \n",
      " 0   earth_date_time      3197 non-null   object\n",
      " 1   mars_date_time       3197 non-null   object\n",
      " 2   sol_number           3197 non-null   object\n",
      " 3   max_ground_temp(°C)  3197 non-null   object\n",
      " 4   min_ground_temp(°C)  3197 non-null   object\n",
      " 5   max_air_temp(°C)     3197 non-null   object\n",
      " 6   min_air_temp(°C)     3197 non-null   object\n",
      " 7   mean_pressure(Pa)    3197 non-null   object\n",
      " 8   wind_speed(m/h)      3197 non-null   object\n",
      " 9   humidity(%)          3197 non-null   object\n",
      " 10  sunrise              3197 non-null   object\n",
      " 11  sunset               3197 non-null   object\n",
      " 12  UV_Radiation         3170 non-null   object\n",
      " 13  weather              3197 non-null   object\n",
      "dtypes: object(14)\n",
      "memory usage: 349.8+ KB\n"
     ]
    }
   ],
   "source": [
    "mars_df.info()"
   ]
  },
  {
   "cell_type": "code",
   "execution_count": 4,
   "id": "b3204398-0438-4f48-b1f5-c283a33b051b",
   "metadata": {},
   "outputs": [
    {
     "name": "stdout",
     "output_type": "stream",
     "text": [
      "                     Count         %\n",
      "UV_Radiation            27  0.844542\n",
      "earth_date_time          0  0.000000\n",
      "mars_date_time           0  0.000000\n",
      "sol_number               0  0.000000\n",
      "max_ground_temp(°C)      0  0.000000\n",
      "min_ground_temp(°C)      0  0.000000\n",
      "max_air_temp(°C)         0  0.000000\n",
      "min_air_temp(°C)         0  0.000000\n",
      "mean_pressure(Pa)        0  0.000000\n",
      "wind_speed(m/h)          0  0.000000\n",
      "humidity(%)              0  0.000000\n",
      "sunrise                  0  0.000000\n",
      "sunset                   0  0.000000\n",
      "weather                  0  0.000000\n"
     ]
    }
   ],
   "source": [
    "missing = pd.concat([mars_df.isnull().sum(), 100 * mars_df.isnull().mean()], axis=1)\n",
    "missing.columns = ['Count', '%']\n",
    "missing = missing.sort_values(by='%', ascending=False)\n",
    "print(missing)"
   ]
  },
  {
   "cell_type": "code",
   "execution_count": 5,
   "id": "b9e74052-4551-4048-bf24-89d588cb9d54",
   "metadata": {},
   "outputs": [
    {
     "name": "stdout",
     "output_type": "stream",
     "text": [
      "                     NaN Count  \"Value not available\" Count  \\\n",
      "wind_speed(m/h)              0                         3197   \n",
      "humidity(%)                  0                         3197   \n",
      "max_air_temp(°C)             0                           29   \n",
      "min_air_temp(°C)             0                           29   \n",
      "max_ground_temp(°C)          0                           28   \n",
      "min_ground_temp(°C)          0                           28   \n",
      "mean_pressure(Pa)            0                           27   \n",
      "UV_Radiation                27                            0   \n",
      "weather                      0                            3   \n",
      "earth_date_time              0                            0   \n",
      "mars_date_time               0                            0   \n",
      "sol_number                   0                            0   \n",
      "sunrise                      0                            0   \n",
      "sunset                       0                            0   \n",
      "\n",
      "                     Total % Missing or Unavailable  \n",
      "wind_speed(m/h)                          100.000000  \n",
      "humidity(%)                              100.000000  \n",
      "max_air_temp(°C)                           0.907100  \n",
      "min_air_temp(°C)                           0.907100  \n",
      "max_ground_temp(°C)                        0.875821  \n",
      "min_ground_temp(°C)                        0.875821  \n",
      "mean_pressure(Pa)                          0.844542  \n",
      "UV_Radiation                               0.844542  \n",
      "weather                                    0.093838  \n",
      "earth_date_time                            0.000000  \n",
      "mars_date_time                             0.000000  \n",
      "sol_number                                 0.000000  \n",
      "sunrise                                    0.000000  \n",
      "sunset                                     0.000000  \n"
     ]
    }
   ],
   "source": [
    "# Check for missing values and \"Value not available\"\n",
    "missing_or_unavailable = pd.concat([\n",
    "    mars_df.isnull().sum(),  # Count of NaN values\n",
    "    mars_df.eq(\"Value not available\").sum(),  # Count of \"Value not available\"\n",
    "    100 * (mars_df.isnull().mean() + mars_df.eq(\"Value not available\").mean())  # Percentage of missing or unavailable\n",
    "], axis=1)\n",
    "\n",
    "# Rename columns\n",
    "missing_or_unavailable.columns = ['NaN Count', '\"Value not available\" Count', 'Total % Missing or Unavailable']\n",
    "\n",
    "# Sort by percentage of missing or unavailable values\n",
    "missing_or_unavailable = missing_or_unavailable.sort_values(by='Total % Missing or Unavailable', ascending=False)\n",
    "\n",
    "# Display the result\n",
    "print(missing_or_unavailable)\n"
   ]
  },
  {
   "cell_type": "code",
   "execution_count": 6,
   "id": "1fe22abc-baaa-4856-a932-c91347dbb9a8",
   "metadata": {},
   "outputs": [
    {
     "name": "stdout",
     "output_type": "stream",
     "text": [
      "Number of unique values in 'column_name': earth_date_time        3197\n",
      "mars_date_time          360\n",
      "sol_number             3197\n",
      "max_ground_temp(°C)      52\n",
      "min_ground_temp(°C)      40\n",
      "max_air_temp(°C)         51\n",
      "min_air_temp(°C)         78\n",
      "mean_pressure(Pa)       224\n",
      "wind_speed(m/h)           1\n",
      "humidity(%)               1\n",
      "sunrise                  90\n",
      "sunset                   96\n",
      "UV_Radiation              4\n",
      "weather                   2\n",
      "dtype: int64\n"
     ]
    }
   ],
   "source": [
    "# Check the number of unique values in a specific column\n",
    "unique_values_count = mars_df.nunique()\n",
    "print(f\"Number of unique values in 'column_name': {unique_values_count}\")\n"
   ]
  },
  {
   "cell_type": "code",
   "execution_count": 7,
   "id": "350c572c-51fd-4f72-84a3-eb92dd6aee61",
   "metadata": {},
   "outputs": [
    {
     "name": "stdout",
     "output_type": "stream",
     "text": [
      "Unique UV Radiation Readings:  ['moderate' 'low' 'high' 'very_high' nan]\n",
      "Unique Weather Readings:  ['Sunny' 'Value not available']\n",
      "Unique Wind Speed Readings:  ['Value not available']\n",
      "Unique Humidity Readings:  ['Value not available']\n"
     ]
    }
   ],
   "source": [
    "print(\"Unique UV Radiation Readings: \", mars_df['UV_Radiation'].unique())\n",
    "print(\"Unique Weather Readings: \", mars_df['weather'].unique())\n",
    "print(\"Unique Wind Speed Readings: \", mars_df['wind_speed(m/h)'].unique())\n",
    "print(\"Unique Humidity Readings: \", mars_df['humidity(%)'].unique())"
   ]
  },
  {
   "cell_type": "code",
   "execution_count": 8,
   "id": "41791164-8220-4ff9-9e37-f0064889dfc9",
   "metadata": {},
   "outputs": [],
   "source": [
    "columns_to_drop = ['wind_speed(m/h)', 'humidity(%)', 'weather']\n",
    "mars_df.drop(columns=columns_to_drop, inplace=True)"
   ]
  },
  {
   "cell_type": "code",
   "execution_count": 9,
   "id": "71dd4fc8-d496-42d0-a576-cc0ecb730035",
   "metadata": {},
   "outputs": [
    {
     "name": "stdout",
     "output_type": "stream",
     "text": [
      "                     NaN Count  \"Value not available\" Count  \\\n",
      "max_air_temp(°C)             0                           29   \n",
      "min_air_temp(°C)             0                           29   \n",
      "max_ground_temp(°C)          0                           28   \n",
      "min_ground_temp(°C)          0                           28   \n",
      "mean_pressure(Pa)            0                           27   \n",
      "UV_Radiation                27                            0   \n",
      "earth_date_time              0                            0   \n",
      "mars_date_time               0                            0   \n",
      "sol_number                   0                            0   \n",
      "sunrise                      0                            0   \n",
      "sunset                       0                            0   \n",
      "\n",
      "                     Total % Missing or Unavailable  \n",
      "max_air_temp(°C)                           0.907100  \n",
      "min_air_temp(°C)                           0.907100  \n",
      "max_ground_temp(°C)                        0.875821  \n",
      "min_ground_temp(°C)                        0.875821  \n",
      "mean_pressure(Pa)                          0.844542  \n",
      "UV_Radiation                               0.844542  \n",
      "earth_date_time                            0.000000  \n",
      "mars_date_time                             0.000000  \n",
      "sol_number                                 0.000000  \n",
      "sunrise                                    0.000000  \n",
      "sunset                                     0.000000  \n"
     ]
    }
   ],
   "source": [
    "mars_df.head()\n",
    "\n",
    "print(check_missing(mars_df))"
   ]
  },
  {
   "cell_type": "code",
   "execution_count": 10,
   "id": "b67e70ab-69b7-40f8-8faa-9acda3d2de08",
   "metadata": {},
   "outputs": [
    {
     "name": "stdout",
     "output_type": "stream",
     "text": [
      "0    3368\n",
      "1    3367\n",
      "2    3366\n",
      "3    3365\n",
      "4    3364\n",
      "Name: sol_number, dtype: int32\n"
     ]
    }
   ],
   "source": [
    "# Reformat sol_number and set as index\n",
    "mars_df['sol_number'] = mars_df['sol_number'].str.replace('sol', '', case=False).str.strip().astype(int)\n",
    "print(mars_df['sol_number'].head())"
   ]
  },
  {
   "cell_type": "code",
   "execution_count": 11,
   "id": "8ecbe840-5e05-449b-bf31-ae920581af2f",
   "metadata": {},
   "outputs": [
    {
     "name": "stdout",
     "output_type": "stream",
     "text": [
      "                  earth_date_time           mars_date_time  \\\n",
      "sol_number                                                   \n",
      "3368        Earth, 2022-01-26 UTC  Mars, Month 6 - LS 163°   \n",
      "3367        Earth, 2022-01-25 UTC  Mars, Month 6 - LS 163°   \n",
      "3366        Earth, 2022-01-24 UTC  Mars, Month 6 - LS 162°   \n",
      "3365        Earth, 2022-01-23 UTC  Mars, Month 6 - LS 162°   \n",
      "3364        Earth, 2022-01-22 UTC  Mars, Month 6 - LS 161°   \n",
      "\n",
      "           max_ground_temp(°C) min_ground_temp(°C) max_air_temp(°C)  \\\n",
      "sol_number                                                            \n",
      "3368                        -3                 -71               10   \n",
      "3367                        -3                 -72               10   \n",
      "3366                        -4                 -70                8   \n",
      "3365                        -6                 -70                9   \n",
      "3364                        -7                 -71                8   \n",
      "\n",
      "           min_air_temp(°C) mean_pressure(Pa) sunrise sunset UV_Radiation  \n",
      "sol_number                                                                 \n",
      "3368                    -84               707   05:25  17:20     moderate  \n",
      "3367                    -87               707   05:25  17:20     moderate  \n",
      "3366                    -81               708   05:25  17:21     moderate  \n",
      "3365                    -91               707   05:26  17:21     moderate  \n",
      "3364                    -92               708   05:26  17:21     moderate  \n"
     ]
    }
   ],
   "source": [
    "# Set 'sol_number' as DataFrame index\n",
    "mars_df.set_index('sol_number', inplace=True)\n",
    "\n",
    "# Check DataFrame for new index\n",
    "print(mars_df.head())"
   ]
  },
  {
   "cell_type": "code",
   "execution_count": 12,
   "id": "7b9cacbd-2b00-4735-a4b3-362f454a4a9e",
   "metadata": {},
   "outputs": [
    {
     "name": "stdout",
     "output_type": "stream",
     "text": [
      "No missing sol_numbers found.\n"
     ]
    }
   ],
   "source": [
    "# Check for missing sol_numbers\n",
    "missing_sols = mars_df.index.isnull().any()\n",
    "if missing_sols:\n",
    "    print(\"There are missing sol_numbers.\")\n",
    "else:\n",
    "    print(\"No missing sol_numbers found.\")\n"
   ]
  },
  {
   "cell_type": "code",
   "execution_count": 13,
   "id": "f6b0621f-4649-4fb0-ab67-38a09415f298",
   "metadata": {},
   "outputs": [
    {
     "name": "stdout",
     "output_type": "stream",
     "text": [
      "Missing sol numbers: [2, 3, 4, 5, 6, 7, 8, 193, 194, 201, 202, 203, 204, 205, 206, 207, 208, 209, 210, 211, 212, 213, 214, 216, 217, 218, 219, 220, 221, 263, 264, 265, 266, 359, 360, 361, 362, 363, 364, 445, 446, 447, 448, 449, 450, 451, 452, 453, 458, 459, 460, 461, 479, 480, 481, 482, 483, 484, 873, 874, 875, 876, 877, 878, 879, 938, 955, 956, 999, 1027, 1289, 1290, 1389, 1390, 1391, 1392, 1393, 1394, 1395, 1396, 1397, 1691, 1786, 2175, 2176, 2177, 2178, 2179, 2180, 2181, 2182, 2183, 2184, 2185, 2186, 2187, 2188, 2189, 2190, 2191, 2192, 2193, 2194, 2195, 2196, 2197, 2198, 2199, 2200, 2201, 2202, 2203, 2215, 2259, 2260, 2262, 2320, 2321, 2322, 2323, 2324, 2325, 2326, 2327, 2328, 2329, 2330, 2331, 2332, 2339, 2340, 2341, 2342, 2343, 2344, 2345, 2346, 2706, 2739, 2740, 2808, 2809, 2815, 2966, 3024, 3124, 3125, 3126, 3127, 3128, 3129, 3184, 3254, 3255, 3256, 3257, 3273, 3306, 3333, 3334, 3335, 3336, 3337, 3338, 3339, 3340, 3341, 3342, 3343, 3344, 3354]\n",
      "Repeated sol numbers: []\n"
     ]
    }
   ],
   "source": [
    "# Generate the full range of sol numbers\n",
    "full_range = pd.RangeIndex(start=mars_df.index.min(), stop=mars_df.index.max() + 1)\n",
    "\n",
    "# Check for missing sol numbers\n",
    "missing_sols = full_range.difference(mars_df.index)\n",
    "print(\"Missing sol numbers:\", missing_sols.tolist())\n",
    "\n",
    "# Check for repeated sol numbers\n",
    "repeated_sols = mars_df.index[mars_df.index.duplicated()].unique()\n",
    "print(\"Repeated sol numbers:\", repeated_sols.tolist())\n"
   ]
  },
  {
   "cell_type": "code",
   "execution_count": 14,
   "id": "b5435ec2-d553-4cd8-941c-314b1a7c1cd9",
   "metadata": {},
   "outputs": [
    {
     "name": "stdout",
     "output_type": "stream",
     "text": [
      "DataFrame after filling gaps with missing sol numbers:\n",
      "          earth_date_time           mars_date_time max_ground_temp(°C)  \\\n",
      "1   Earth, 2012-08-07 UTC  Mars, Month 6 - LS 150°                 NaN   \n",
      "2                     NaN                      NaN                 NaN   \n",
      "3                     NaN                      NaN                 NaN   \n",
      "4                     NaN                      NaN                 NaN   \n",
      "5                     NaN                      NaN                 NaN   \n",
      "6                     NaN                      NaN                 NaN   \n",
      "7                     NaN                      NaN                 NaN   \n",
      "8                     NaN                      NaN                 NaN   \n",
      "9   Earth, 2012-08-15 UTC  Mars, Month 6 - LS 155°                 NaN   \n",
      "10  Earth, 2012-08-16 UTC  Mars, Month 6 - LS 155°                 -16   \n",
      "11  Earth, 2012-08-17 UTC  Mars, Month 6 - LS 156°                 -11   \n",
      "12  Earth, 2012-08-18 UTC  Mars, Month 6 - LS 156°                 -18   \n",
      "13  Earth, 2012-08-19 UTC  Mars, Month 6 - LS 157°                 -15   \n",
      "14  Earth, 2012-08-20 UTC  Mars, Month 6 - LS 157°                 -16   \n",
      "15  Earth, 2012-08-21 UTC  Mars, Month 6 - LS 158°                 -15   \n",
      "\n",
      "   min_ground_temp(°C) max_air_temp(°C) min_air_temp(°C) mean_pressure(Pa)  \\\n",
      "1                  NaN              NaN              NaN               NaN   \n",
      "2                  NaN              NaN              NaN               NaN   \n",
      "3                  NaN              NaN              NaN               NaN   \n",
      "4                  NaN              NaN              NaN               NaN   \n",
      "5                  NaN              NaN              NaN               NaN   \n",
      "6                  NaN              NaN              NaN               NaN   \n",
      "7                  NaN              NaN              NaN               NaN   \n",
      "8                  NaN              NaN              NaN               NaN   \n",
      "9                  NaN              NaN              NaN               NaN   \n",
      "10                 -75                8              -83               739   \n",
      "11                 -76                9              -83               740   \n",
      "12                 -76                8              -82               741   \n",
      "13                 -74                8              -80               732   \n",
      "14                 -74                9              -82               740   \n",
      "15                 -78                8              -82               740   \n",
      "\n",
      "   sunrise sunset UV_Radiation  \n",
      "1    05:30  17:22          NaN  \n",
      "2      NaN    NaN          NaN  \n",
      "3      NaN    NaN          NaN  \n",
      "4      NaN    NaN          NaN  \n",
      "5      NaN    NaN          NaN  \n",
      "6      NaN    NaN          NaN  \n",
      "7      NaN    NaN          NaN  \n",
      "8      NaN    NaN          NaN  \n",
      "9    05:28  17:22          NaN  \n",
      "10   05:28  17:22    very_high  \n",
      "11   05:28  17:21    very_high  \n",
      "12   05:28  17:21    very_high  \n",
      "13   05:28  17:21    very_high  \n",
      "14   05:27  17:21    very_high  \n",
      "15   05:27  17:21    very_high  \n"
     ]
    }
   ],
   "source": [
    "# Reindex the DataFrame to include all sol numbers, filling gaps with NaN\n",
    "mars_df = mars_df.reindex(full_range)\n",
    "mars_df.replace(\"Value not available\", np.nan, inplace=True) # Replace 'Value not available'\n",
    "\n",
    "# Verify the new DataFrame\n",
    "print(\"DataFrame after filling gaps with missing sol numbers:\")\n",
    "print(mars_df.head(15))  # Adjust the range as needed"
   ]
  },
  {
   "cell_type": "code",
   "execution_count": 15,
   "id": "46a845e4-9581-4b64-832a-2234996c5cc6",
   "metadata": {},
   "outputs": [
    {
     "name": "stdout",
     "output_type": "stream",
     "text": [
      "                     NaN Count  \"Value not available\" Count  \\\n",
      "max_air_temp(°C)           200                            0   \n",
      "min_air_temp(°C)           200                            0   \n",
      "max_ground_temp(°C)        199                            0   \n",
      "min_ground_temp(°C)        199                            0   \n",
      "mean_pressure(Pa)          198                            0   \n",
      "UV_Radiation               198                            0   \n",
      "earth_date_time            171                            0   \n",
      "mars_date_time             171                            0   \n",
      "sunrise                    171                            0   \n",
      "sunset                     171                            0   \n",
      "\n",
      "                     Total % Missing or Unavailable  \n",
      "max_air_temp(°C)                           5.938242  \n",
      "min_air_temp(°C)                           5.938242  \n",
      "max_ground_temp(°C)                        5.908551  \n",
      "min_ground_temp(°C)                        5.908551  \n",
      "mean_pressure(Pa)                          5.878860  \n",
      "UV_Radiation                               5.878860  \n",
      "earth_date_time                            5.077197  \n",
      "mars_date_time                             5.077197  \n",
      "sunrise                                    5.077197  \n",
      "sunset                                     5.077197  \n"
     ]
    }
   ],
   "source": [
    "print(check_missing(mars_df))"
   ]
  },
  {
   "cell_type": "code",
   "execution_count": 16,
   "id": "90c2634c-8dcb-430c-b44f-61218c07779d",
   "metadata": {},
   "outputs": [],
   "source": [
    "mars_df['earth_date_time'] = mars_df['earth_date_time'].str.replace('Earth, ', '', case=False).str.replace('UTC', '', case=False).str.strip()"
   ]
  },
  {
   "cell_type": "code",
   "execution_count": 17,
   "id": "e39390bd-c860-42ff-9b55-362c408cb019",
   "metadata": {},
   "outputs": [
    {
     "name": "stdout",
     "output_type": "stream",
     "text": [
      "<class 'pandas.core.frame.DataFrame'>\n",
      "RangeIndex: 3368 entries, 1 to 3368\n",
      "Data columns (total 10 columns):\n",
      " #   Column               Non-Null Count  Dtype         \n",
      "---  ------               --------------  -----         \n",
      " 0   earth_date_time      3197 non-null   datetime64[ns]\n",
      " 1   mars_date_time       3197 non-null   object        \n",
      " 2   max_ground_temp(°C)  3169 non-null   object        \n",
      " 3   min_ground_temp(°C)  3169 non-null   object        \n",
      " 4   max_air_temp(°C)     3168 non-null   object        \n",
      " 5   min_air_temp(°C)     3168 non-null   object        \n",
      " 6   mean_pressure(Pa)    3170 non-null   object        \n",
      " 7   sunrise              3197 non-null   object        \n",
      " 8   sunset               3197 non-null   object        \n",
      " 9   UV_Radiation         3170 non-null   object        \n",
      "dtypes: datetime64[ns](1), object(9)\n",
      "memory usage: 263.3+ KB\n"
     ]
    }
   ],
   "source": [
    "mars_df['earth_date_time'] = pd.to_datetime(mars_df['earth_date_time'])\n",
    "mars_df.info()"
   ]
  },
  {
   "cell_type": "code",
   "execution_count": 18,
   "id": "0e2cf785-0688-44f4-9eb0-921c71303004",
   "metadata": {},
   "outputs": [
    {
     "name": "stdout",
     "output_type": "stream",
     "text": [
      "            mars_date_time  mars_degree\n",
      "1  Mars, Month 6 - LS 150°        150.0\n",
      "2                      NaN          NaN\n",
      "3                      NaN          NaN\n",
      "4                      NaN          NaN\n",
      "5                      NaN          NaN\n",
      "  earth_date_time  mars_degree max_ground_temp(°C) min_ground_temp(°C)  \\\n",
      "1      2012-08-07        150.0                 NaN                 NaN   \n",
      "2             NaT          NaN                 NaN                 NaN   \n",
      "3             NaT          NaN                 NaN                 NaN   \n",
      "4             NaT          NaN                 NaN                 NaN   \n",
      "5             NaT          NaN                 NaN                 NaN   \n",
      "\n",
      "  max_air_temp(°C) min_air_temp(°C) mean_pressure(Pa) sunrise sunset  \\\n",
      "1              NaN              NaN               NaN   05:30  17:22   \n",
      "2              NaN              NaN               NaN     NaN    NaN   \n",
      "3              NaN              NaN               NaN     NaN    NaN   \n",
      "4              NaN              NaN               NaN     NaN    NaN   \n",
      "5              NaN              NaN               NaN     NaN    NaN   \n",
      "\n",
      "  UV_Radiation  \n",
      "1          NaN  \n",
      "2          NaN  \n",
      "3          NaN  \n",
      "4          NaN  \n",
      "5          NaN  \n"
     ]
    }
   ],
   "source": [
    "# Use a regular expression to extract the degree value from 'mars_date_time'\n",
    "mars_df['mars_degree'] = mars_df['mars_date_time'].str.extract(r'LS\\s+(\\d+)°')[0].astype(float)\n",
    "\n",
    "# Verify the new column\n",
    "print(mars_df[['mars_date_time', 'mars_degree']].head())\n",
    "\n",
    "columns = mars_df.columns.to_list()\n",
    "\n",
    "columns.remove('mars_degree')\n",
    "columns.insert(2, 'mars_degree')\n",
    "\n",
    "mars_df = mars_df[columns]\n",
    "\n",
    "# Drop the 'mars_date_time' column\n",
    "mars_df.drop(columns=['mars_date_time'], inplace=True)\n",
    "\n",
    "print(mars_df.head())"
   ]
  },
  {
   "cell_type": "code",
   "execution_count": 19,
   "id": "e6c0f5f2-cb8e-4bae-8f23-918cc7da2b27",
   "metadata": {},
   "outputs": [
    {
     "name": "stdout",
     "output_type": "stream",
     "text": [
      "<IntegerArray>\n",
      "[<NA>, 4, 3, 2, 1]\n",
      "Length: 5, dtype: Int64\n"
     ]
    }
   ],
   "source": [
    "# Set temperatures to float\n",
    "mars_df['max_ground_temp(°C)'] = mars_df['max_ground_temp(°C)'].astype(float) # Ground Temperatures\n",
    "mars_df['min_ground_temp(°C)'] = mars_df['min_ground_temp(°C)'].astype(float)\n",
    "\n",
    "mars_df['max_air_temp(°C)'] = mars_df['max_air_temp(°C)'].astype(float) # Air Temperatures\n",
    "mars_df['min_air_temp(°C)'] = mars_df['min_air_temp(°C)'].astype(float)\n",
    "\n",
    "# Set Pressure to Float\n",
    "mars_df['mean_pressure(Pa)'] = mars_df['mean_pressure(Pa)'].astype(float)\n",
    "\n",
    "# Set Sunrise/Sunset to Datetime\n",
    "mars_df['sunrise'] = pd.to_datetime(mars_df['sunrise'], format='%H:%M').dt.time\n",
    "mars_df['sunset'] = pd.to_datetime(mars_df['sunset'], format='%H:%M').dt.time\n",
    "\n",
    "# Change UV_radiation to categorical data structure\n",
    "# Create mapping for UV_Radiation levels\n",
    "uv_mapping = {\n",
    "    'low': 1,\n",
    "    'moderate': 2,\n",
    "    'high': 3,\n",
    "    'very_high': 4\n",
    "}\n",
    "\n",
    "# Apply UV Mapping Schema\n",
    "mars_df['UV_Radiation'] = mars_df['UV_Radiation'].map(uv_mapping).astype('Int64')\n",
    "# Verify the transformation\n",
    "print(mars_df['UV_Radiation'].unique())\n",
    "\n",
    "# Impute missing Dates and Times"
   ]
  }
 ],
 "metadata": {
  "kernelspec": {
   "display_name": "Python 3 (ipykernel)",
   "language": "python",
   "name": "python3"
  },
  "language_info": {
   "codemirror_mode": {
    "name": "ipython",
    "version": 3
   },
   "file_extension": ".py",
   "mimetype": "text/x-python",
   "name": "python",
   "nbconvert_exporter": "python",
   "pygments_lexer": "ipython3",
   "version": "3.12.6"
  }
 },
 "nbformat": 4,
 "nbformat_minor": 5
}
