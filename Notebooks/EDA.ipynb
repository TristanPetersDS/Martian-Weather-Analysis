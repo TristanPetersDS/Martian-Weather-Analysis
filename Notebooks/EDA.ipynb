{
 "cells": [
  {
   "cell_type": "markdown",
   "id": "f2f995b3-8e44-44bf-b386-f3d3f54fdf43",
   "metadata": {},
   "source": [
    "# **Exploratory Data Analysis (EDA) for Mars Weather Analysis**\n",
    "\n",
    "## **1. Introduction**\n",
    "### **Dataset Overview**\n",
    "- The dataset consists of Martian weather data collected by the **REMS instrument on NASA's Curiosity rover**.\n",
    "- It contains **3,197 records** spanning multiple Martian years, with variables covering **temperature, pressure, UV radiation, and day length**.\n",
    "\n",
    "### **Objectives of EDA**\n",
    "- Understand feature relationships and trends.\n",
    "- Identify missing data patterns and their impact.\n",
    "- Investigate seasonal and cyclical trends.\n",
    "- Detect outliers and anomalies.\n",
    "\n",
    "### **Key Questions to Explore**\n",
    "- Are temperature and pressure correlated?\n",
    "- Can features predict missing values?\n",
    "- How do seasonal and yearly trends affect Martian weather?\n",
    "- What role does **day length** play in temperature variations?\n",
    "- Are there **outliers or extreme events** in the dataset?"
   ]
  },
  {
   "cell_type": "markdown",
   "id": "38fff5a3-1bf5-4205-b48a-316fbf18996e",
   "metadata": {},
   "source": [
    "### EDA TO DO LIST\n",
    "- [ ] Investigate each feature in my dataframe\n",
    "- [ ] Pearson correlation coefficients plots\n",
    "- [ ] Hypothesis testing and establishment of probing questions\n",
    "1. Are temperature and pressure correlated?\n",
    "2. Can any of the features be used to predict the gaps in the data?\n",
    "- [ ] Identify if there are any years with complete sol records, this will be the primary training dataset\n",
    "- [ ] Look at seasonal trends for primary features\n",
    "- [ ] Look into seasonal changes in variation between min and max temperatures\n",
    "- [ ] Look into distributions of missing days and data (from original dataset)"
   ]
  },
  {
   "cell_type": "markdown",
   "id": "69c177d0-402c-4ba3-a333-7b8c74e9cca0",
   "metadata": {},
   "source": [
    "---"
   ]
  },
  {
   "cell_type": "markdown",
   "id": "1d38dbf4-2dc4-4ee2-913b-d3ad1ac5ff4e",
   "metadata": {},
   "source": [
    "## **2. Data Overview**"
   ]
  },
  {
   "cell_type": "code",
   "execution_count": 1,
   "id": "f64676ab-5514-4315-9c4d-989c1cd45a58",
   "metadata": {},
   "outputs": [],
   "source": [
    "import pandas as pd\n",
    "import numpy as np\n",
    "import matplotlib.pyplot as plt\n",
    "import seaborn as sns\n",
    "import scipy.stats as stats"
   ]
  },
  {
   "cell_type": "markdown",
   "id": "a6bca5e4-9bdb-40bd-b80b-93d92143dc28",
   "metadata": {},
   "source": [
    "### **2.1 Load and Inspect Data**\n",
    "- Load the dataset (`pd.read_csv()`).\n",
    "- Display first few rows (`df.head()`).\n",
    "- Check data structure (`df.info()`) and column data types.\n",
    "- Convert date columns to datetime format (`pd.to_datetime()`)."
   ]
  },
  {
   "cell_type": "code",
   "execution_count": 8,
   "id": "d9837cc4-b8ed-43f7-a746-01e26bfb676f",
   "metadata": {},
   "outputs": [
    {
     "data": {
      "text/html": [
       "<div>\n",
       "<style scoped>\n",
       "    .dataframe tbody tr th:only-of-type {\n",
       "        vertical-align: middle;\n",
       "    }\n",
       "\n",
       "    .dataframe tbody tr th {\n",
       "        vertical-align: top;\n",
       "    }\n",
       "\n",
       "    .dataframe thead th {\n",
       "        text-align: right;\n",
       "    }\n",
       "</style>\n",
       "<table border=\"1\" class=\"dataframe\">\n",
       "  <thead>\n",
       "    <tr style=\"text-align: right;\">\n",
       "      <th></th>\n",
       "      <th>earth_date_time</th>\n",
       "      <th>Ls</th>\n",
       "      <th>mars_month</th>\n",
       "      <th>mars_year</th>\n",
       "      <th>mars_season</th>\n",
       "      <th>sunrise</th>\n",
       "      <th>sunset</th>\n",
       "      <th>day_length</th>\n",
       "      <th>avg_ground_temp</th>\n",
       "      <th>max_ground_temp</th>\n",
       "      <th>min_ground_temp</th>\n",
       "      <th>avg_air_temp</th>\n",
       "      <th>max_air_temp</th>\n",
       "      <th>min_air_temp</th>\n",
       "      <th>mean_pressure</th>\n",
       "      <th>UV_Radiation</th>\n",
       "    </tr>\n",
       "    <tr>\n",
       "      <th>sol_number</th>\n",
       "      <th></th>\n",
       "      <th></th>\n",
       "      <th></th>\n",
       "      <th></th>\n",
       "      <th></th>\n",
       "      <th></th>\n",
       "      <th></th>\n",
       "      <th></th>\n",
       "      <th></th>\n",
       "      <th></th>\n",
       "      <th></th>\n",
       "      <th></th>\n",
       "      <th></th>\n",
       "      <th></th>\n",
       "      <th></th>\n",
       "      <th></th>\n",
       "    </tr>\n",
       "  </thead>\n",
       "  <tbody>\n",
       "    <tr>\n",
       "      <th>1</th>\n",
       "      <td>2012-08-07</td>\n",
       "      <td>150.0</td>\n",
       "      <td>6</td>\n",
       "      <td>1</td>\n",
       "      <td>winter</td>\n",
       "      <td>05:30:00</td>\n",
       "      <td>17:22:00</td>\n",
       "      <td>712.0</td>\n",
       "      <td>-45.5</td>\n",
       "      <td>-16.0</td>\n",
       "      <td>-75.0</td>\n",
       "      <td>-37.5</td>\n",
       "      <td>8.0</td>\n",
       "      <td>-83.0</td>\n",
       "      <td>739.0</td>\n",
       "      <td>4</td>\n",
       "    </tr>\n",
       "    <tr>\n",
       "      <th>9</th>\n",
       "      <td>2012-08-15</td>\n",
       "      <td>155.0</td>\n",
       "      <td>6</td>\n",
       "      <td>1</td>\n",
       "      <td>winter</td>\n",
       "      <td>05:28:00</td>\n",
       "      <td>17:22:00</td>\n",
       "      <td>714.0</td>\n",
       "      <td>-45.5</td>\n",
       "      <td>-16.0</td>\n",
       "      <td>-75.0</td>\n",
       "      <td>-37.5</td>\n",
       "      <td>8.0</td>\n",
       "      <td>-83.0</td>\n",
       "      <td>739.0</td>\n",
       "      <td>4</td>\n",
       "    </tr>\n",
       "    <tr>\n",
       "      <th>10</th>\n",
       "      <td>2012-08-16</td>\n",
       "      <td>155.0</td>\n",
       "      <td>6</td>\n",
       "      <td>1</td>\n",
       "      <td>winter</td>\n",
       "      <td>05:28:00</td>\n",
       "      <td>17:22:00</td>\n",
       "      <td>714.0</td>\n",
       "      <td>-45.5</td>\n",
       "      <td>-16.0</td>\n",
       "      <td>-75.0</td>\n",
       "      <td>-37.5</td>\n",
       "      <td>8.0</td>\n",
       "      <td>-83.0</td>\n",
       "      <td>739.0</td>\n",
       "      <td>4</td>\n",
       "    </tr>\n",
       "    <tr>\n",
       "      <th>11</th>\n",
       "      <td>2012-08-17</td>\n",
       "      <td>156.0</td>\n",
       "      <td>6</td>\n",
       "      <td>1</td>\n",
       "      <td>winter</td>\n",
       "      <td>05:28:00</td>\n",
       "      <td>17:21:00</td>\n",
       "      <td>713.0</td>\n",
       "      <td>-43.5</td>\n",
       "      <td>-11.0</td>\n",
       "      <td>-76.0</td>\n",
       "      <td>-37.0</td>\n",
       "      <td>9.0</td>\n",
       "      <td>-83.0</td>\n",
       "      <td>740.0</td>\n",
       "      <td>4</td>\n",
       "    </tr>\n",
       "    <tr>\n",
       "      <th>12</th>\n",
       "      <td>2012-08-18</td>\n",
       "      <td>156.0</td>\n",
       "      <td>6</td>\n",
       "      <td>1</td>\n",
       "      <td>winter</td>\n",
       "      <td>05:28:00</td>\n",
       "      <td>17:21:00</td>\n",
       "      <td>713.0</td>\n",
       "      <td>-47.0</td>\n",
       "      <td>-18.0</td>\n",
       "      <td>-76.0</td>\n",
       "      <td>-37.0</td>\n",
       "      <td>8.0</td>\n",
       "      <td>-82.0</td>\n",
       "      <td>741.0</td>\n",
       "      <td>4</td>\n",
       "    </tr>\n",
       "  </tbody>\n",
       "</table>\n",
       "</div>"
      ],
      "text/plain": [
       "           earth_date_time     Ls  mars_month  mars_year mars_season  \\\n",
       "sol_number                                                             \n",
       "1               2012-08-07  150.0           6          1      winter   \n",
       "9               2012-08-15  155.0           6          1      winter   \n",
       "10              2012-08-16  155.0           6          1      winter   \n",
       "11              2012-08-17  156.0           6          1      winter   \n",
       "12              2012-08-18  156.0           6          1      winter   \n",
       "\n",
       "             sunrise    sunset  day_length  avg_ground_temp  max_ground_temp  \\\n",
       "sol_number                                                                     \n",
       "1           05:30:00  17:22:00       712.0            -45.5            -16.0   \n",
       "9           05:28:00  17:22:00       714.0            -45.5            -16.0   \n",
       "10          05:28:00  17:22:00       714.0            -45.5            -16.0   \n",
       "11          05:28:00  17:21:00       713.0            -43.5            -11.0   \n",
       "12          05:28:00  17:21:00       713.0            -47.0            -18.0   \n",
       "\n",
       "            min_ground_temp  avg_air_temp  max_air_temp  min_air_temp  \\\n",
       "sol_number                                                              \n",
       "1                     -75.0         -37.5           8.0         -83.0   \n",
       "9                     -75.0         -37.5           8.0         -83.0   \n",
       "10                    -75.0         -37.5           8.0         -83.0   \n",
       "11                    -76.0         -37.0           9.0         -83.0   \n",
       "12                    -76.0         -37.0           8.0         -82.0   \n",
       "\n",
       "            mean_pressure  UV_Radiation  \n",
       "sol_number                               \n",
       "1                   739.0             4  \n",
       "9                   739.0             4  \n",
       "10                  739.0             4  \n",
       "11                  740.0             4  \n",
       "12                  741.0             4  "
      ]
     },
     "execution_count": 8,
     "metadata": {},
     "output_type": "execute_result"
    }
   ],
   "source": [
    "mars_df = pd.read_csv('../Datasets/mars_weather_cleaned.csv', index_col='sol_number')\n",
    "mars_df.head()"
   ]
  },
  {
   "cell_type": "markdown",
   "id": "623d1626-8b15-468c-869e-3f7da1b37def",
   "metadata": {},
   "source": [
    "### **2.2 Summary Statistics**\n",
    "- Generate summary statistics (`df.describe()`).\n",
    "- Identify potential outliers and missing values."
   ]
  },
  {
   "cell_type": "code",
   "execution_count": 9,
   "id": "980fb514-5c2d-41ab-95be-bb162de1c546",
   "metadata": {},
   "outputs": [
    {
     "data": {
      "text/html": [
       "<div>\n",
       "<style scoped>\n",
       "    .dataframe tbody tr th:only-of-type {\n",
       "        vertical-align: middle;\n",
       "    }\n",
       "\n",
       "    .dataframe tbody tr th {\n",
       "        vertical-align: top;\n",
       "    }\n",
       "\n",
       "    .dataframe thead th {\n",
       "        text-align: right;\n",
       "    }\n",
       "</style>\n",
       "<table border=\"1\" class=\"dataframe\">\n",
       "  <thead>\n",
       "    <tr style=\"text-align: right;\">\n",
       "      <th></th>\n",
       "      <th>Ls</th>\n",
       "      <th>mars_month</th>\n",
       "      <th>mars_year</th>\n",
       "      <th>day_length</th>\n",
       "      <th>avg_ground_temp</th>\n",
       "      <th>max_ground_temp</th>\n",
       "      <th>min_ground_temp</th>\n",
       "      <th>avg_air_temp</th>\n",
       "      <th>max_air_temp</th>\n",
       "      <th>min_air_temp</th>\n",
       "      <th>mean_pressure</th>\n",
       "      <th>UV_Radiation</th>\n",
       "    </tr>\n",
       "  </thead>\n",
       "  <tbody>\n",
       "    <tr>\n",
       "      <th>count</th>\n",
       "      <td>3197.000000</td>\n",
       "      <td>3197.000000</td>\n",
       "      <td>3197.000000</td>\n",
       "      <td>3197.000000</td>\n",
       "      <td>3197.000000</td>\n",
       "      <td>3197.000000</td>\n",
       "      <td>3197.000000</td>\n",
       "      <td>3197.000000</td>\n",
       "      <td>3197.000000</td>\n",
       "      <td>3197.000000</td>\n",
       "      <td>3197.000000</td>\n",
       "      <td>3197.000000</td>\n",
       "    </tr>\n",
       "    <tr>\n",
       "      <th>mean</th>\n",
       "      <td>166.959962</td>\n",
       "      <td>6.083203</td>\n",
       "      <td>3.507038</td>\n",
       "      <td>718.169221</td>\n",
       "      <td>-44.097279</td>\n",
       "      <td>-13.182828</td>\n",
       "      <td>-75.011730</td>\n",
       "      <td>-39.147357</td>\n",
       "      <td>2.011730</td>\n",
       "      <td>-80.306537</td>\n",
       "      <td>828.997028</td>\n",
       "      <td>2.583359</td>\n",
       "    </tr>\n",
       "    <tr>\n",
       "      <th>std</th>\n",
       "      <td>104.356771</td>\n",
       "      <td>3.466172</td>\n",
       "      <td>1.500218</td>\n",
       "      <td>12.036363</td>\n",
       "      <td>7.401663</td>\n",
       "      <td>10.489177</td>\n",
       "      <td>5.529929</td>\n",
       "      <td>7.262277</td>\n",
       "      <td>9.398862</td>\n",
       "      <td>8.824723</td>\n",
       "      <td>57.224328</td>\n",
       "      <td>0.692132</td>\n",
       "    </tr>\n",
       "    <tr>\n",
       "      <th>min</th>\n",
       "      <td>0.000000</td>\n",
       "      <td>1.000000</td>\n",
       "      <td>1.000000</td>\n",
       "      <td>702.000000</td>\n",
       "      <td>-72.500000</td>\n",
       "      <td>-67.000000</td>\n",
       "      <td>-100.000000</td>\n",
       "      <td>-75.500000</td>\n",
       "      <td>-61.000000</td>\n",
       "      <td>-136.000000</td>\n",
       "      <td>702.000000</td>\n",
       "      <td>1.000000</td>\n",
       "    </tr>\n",
       "    <tr>\n",
       "      <th>25%</th>\n",
       "      <td>78.000000</td>\n",
       "      <td>3.000000</td>\n",
       "      <td>2.000000</td>\n",
       "      <td>707.000000</td>\n",
       "      <td>-50.500000</td>\n",
       "      <td>-23.000000</td>\n",
       "      <td>-79.000000</td>\n",
       "      <td>-45.500000</td>\n",
       "      <td>-6.000000</td>\n",
       "      <td>-86.000000</td>\n",
       "      <td>785.000000</td>\n",
       "      <td>2.000000</td>\n",
       "    </tr>\n",
       "    <tr>\n",
       "      <th>50%</th>\n",
       "      <td>156.000000</td>\n",
       "      <td>6.000000</td>\n",
       "      <td>3.000000</td>\n",
       "      <td>716.000000</td>\n",
       "      <td>-43.000000</td>\n",
       "      <td>-12.000000</td>\n",
       "      <td>-75.000000</td>\n",
       "      <td>-38.000000</td>\n",
       "      <td>3.000000</td>\n",
       "      <td>-80.000000</td>\n",
       "      <td>844.000000</td>\n",
       "      <td>3.000000</td>\n",
       "    </tr>\n",
       "    <tr>\n",
       "      <th>75%</th>\n",
       "      <td>254.000000</td>\n",
       "      <td>9.000000</td>\n",
       "      <td>5.000000</td>\n",
       "      <td>730.000000</td>\n",
       "      <td>-37.500000</td>\n",
       "      <td>-4.000000</td>\n",
       "      <td>-71.000000</td>\n",
       "      <td>-33.000000</td>\n",
       "      <td>10.000000</td>\n",
       "      <td>-75.000000</td>\n",
       "      <td>873.000000</td>\n",
       "      <td>3.000000</td>\n",
       "    </tr>\n",
       "    <tr>\n",
       "      <th>max</th>\n",
       "      <td>359.000000</td>\n",
       "      <td>12.000000</td>\n",
       "      <td>6.000000</td>\n",
       "      <td>738.000000</td>\n",
       "      <td>-26.500000</td>\n",
       "      <td>11.000000</td>\n",
       "      <td>-52.000000</td>\n",
       "      <td>-1.500000</td>\n",
       "      <td>24.000000</td>\n",
       "      <td>-8.000000</td>\n",
       "      <td>925.000000</td>\n",
       "      <td>4.000000</td>\n",
       "    </tr>\n",
       "  </tbody>\n",
       "</table>\n",
       "</div>"
      ],
      "text/plain": [
       "                Ls   mars_month    mars_year   day_length  avg_ground_temp  \\\n",
       "count  3197.000000  3197.000000  3197.000000  3197.000000      3197.000000   \n",
       "mean    166.959962     6.083203     3.507038   718.169221       -44.097279   \n",
       "std     104.356771     3.466172     1.500218    12.036363         7.401663   \n",
       "min       0.000000     1.000000     1.000000   702.000000       -72.500000   \n",
       "25%      78.000000     3.000000     2.000000   707.000000       -50.500000   \n",
       "50%     156.000000     6.000000     3.000000   716.000000       -43.000000   \n",
       "75%     254.000000     9.000000     5.000000   730.000000       -37.500000   \n",
       "max     359.000000    12.000000     6.000000   738.000000       -26.500000   \n",
       "\n",
       "       max_ground_temp  min_ground_temp  avg_air_temp  max_air_temp  \\\n",
       "count      3197.000000      3197.000000   3197.000000   3197.000000   \n",
       "mean        -13.182828       -75.011730    -39.147357      2.011730   \n",
       "std          10.489177         5.529929      7.262277      9.398862   \n",
       "min         -67.000000      -100.000000    -75.500000    -61.000000   \n",
       "25%         -23.000000       -79.000000    -45.500000     -6.000000   \n",
       "50%         -12.000000       -75.000000    -38.000000      3.000000   \n",
       "75%          -4.000000       -71.000000    -33.000000     10.000000   \n",
       "max          11.000000       -52.000000     -1.500000     24.000000   \n",
       "\n",
       "       min_air_temp  mean_pressure  UV_Radiation  \n",
       "count   3197.000000    3197.000000   3197.000000  \n",
       "mean     -80.306537     828.997028      2.583359  \n",
       "std        8.824723      57.224328      0.692132  \n",
       "min     -136.000000     702.000000      1.000000  \n",
       "25%      -86.000000     785.000000      2.000000  \n",
       "50%      -80.000000     844.000000      3.000000  \n",
       "75%      -75.000000     873.000000      3.000000  \n",
       "max       -8.000000     925.000000      4.000000  "
      ]
     },
     "execution_count": 9,
     "metadata": {},
     "output_type": "execute_result"
    }
   ],
   "source": [
    "mars_df.describe()"
   ]
  },
  {
   "cell_type": "markdown",
   "id": "f38d3224-16b1-460e-9834-6e3c9d9929c2",
   "metadata": {},
   "source": [
    "### **2.3 Missing Data Analysis**\n",
    "- **Count missing values** per column (`df.isnull().sum()`).\n",
    "- **Visualize missing data**:\n",
    "  - `msno.matrix(df)` to see patterns in missing values.\n",
    "  - `msno.heatmap(df)` to explore correlations between missing features.\n",
    "- **Identify patterns in missing data**:\n",
    "  - Check if missing data is seasonal (`sns.heatmap(df.pivot_table(index='mars_month', columns='mars_year', values='avg_air_temp', aggfunc='count'))`)."
   ]
  },
  {
   "cell_type": "code",
   "execution_count": null,
   "id": "6448039d-28d8-4c9c-93bf-48e7e4ad47cb",
   "metadata": {},
   "outputs": [],
   "source": []
  },
  {
   "cell_type": "markdown",
   "id": "90109e93-5dc6-4fa6-bc99-dc684e20e8a7",
   "metadata": {},
   "source": [
    "---"
   ]
  },
  {
   "cell_type": "markdown",
   "id": "4b2a613c-8a60-4d61-9cd9-1f8c87619543",
   "metadata": {},
   "source": [
    "## **3. Feature Investigation**"
   ]
  },
  {
   "cell_type": "markdown",
   "id": "ad2fcd65-a270-498c-bcb5-c34ebba609b6",
   "metadata": {},
   "source": [
    "### **3.1 Univariate Analysis (Distributions & Trends)**\n",
    "- **Histograms** (`sns.histplot()`) for:\n",
    "  - `avg_air_temp`, `max_air_temp`, `min_air_temp`\n",
    "  - `avg_ground_temp`, `max_ground_temp`, `min_ground_temp`\n",
    "  - `mean_pressure`, `UV_Radiation`, `day_length`\n",
    "- **Boxplots** (`sns.boxplot()`) to detect outliers."
   ]
  },
  {
   "cell_type": "code",
   "execution_count": null,
   "id": "d3b114ca-33fa-45da-9ef3-1c3753719ce5",
   "metadata": {},
   "outputs": [],
   "source": []
  },
  {
   "cell_type": "markdown",
   "id": "78837695-6bc5-4f47-bd60-05d25c09ec3e",
   "metadata": {},
   "source": [
    "### **3.2 Bivariate Analysis (Feature Relationships)**\n",
    "- **Scatter plots** (`sns.scatterplot()`):\n",
    "  - `avg_air_temp` vs. `mean_pressure`\n",
    "  - `avg_ground_temp` vs. `UV_Radiation`\n",
    "  - `day_length` vs. `max_air_temp`\n",
    "- **Boxplots by categorical variables**:\n",
    "  - Seasonal temperature variation: `sns.boxplot(x='mars_season', y='avg_air_temp')`\n",
    "  - Monthly pressure changes: `sns.boxplot(x='mars_month', y='mean_pressure')`"
   ]
  },
  {
   "cell_type": "code",
   "execution_count": null,
   "id": "646cc47f-1c9d-4d5a-a3a9-7e426e7d6092",
   "metadata": {},
   "outputs": [],
   "source": []
  },
  {
   "cell_type": "markdown",
   "id": "cfe84960-dc3b-4a36-ad95-dcecf21138e2",
   "metadata": {},
   "source": [
    "---"
   ]
  },
  {
   "cell_type": "markdown",
   "id": "ea88c4f7-e789-4512-aad9-535ed287f8e6",
   "metadata": {},
   "source": [
    "## **4. Correlation Analysis**"
   ]
  },
  {
   "cell_type": "markdown",
   "id": "c905f9c8-f9c5-4b23-904b-be44ab0886a7",
   "metadata": {},
   "source": [
    "### **4.1 Pearson Correlation**\n",
    "- Compute **correlation matrix** (`df.corr()`).\n",
    "- **Heatmap of correlations** (`sns.heatmap(df.corr(), annot=True, cmap='coolwarm')`).\n",
    "- Investigate relationships:\n",
    "  - `avg_air_temp` vs. `mean_pressure`\n",
    "  - `max_air_temp` vs. `UV_Radiation`\n",
    "  - `day_length` vs. `temperature`"
   ]
  },
  {
   "cell_type": "code",
   "execution_count": 10,
   "id": "c8184747-0a42-4b3c-a7ca-773c7780d256",
   "metadata": {},
   "outputs": [
    {
     "ename": "ValueError",
     "evalue": "could not convert string to float: '2012-08-07'",
     "output_type": "error",
     "traceback": [
      "\u001b[1;31m---------------------------------------------------------------------------\u001b[0m",
      "\u001b[1;31mValueError\u001b[0m                                Traceback (most recent call last)",
      "Cell \u001b[1;32mIn[10], line 1\u001b[0m\n\u001b[1;32m----> 1\u001b[0m \u001b[43mmars_df\u001b[49m\u001b[38;5;241;43m.\u001b[39;49m\u001b[43mcorr\u001b[49m\u001b[43m(\u001b[49m\u001b[43m)\u001b[49m\n",
      "File \u001b[1;32m~\\AppData\\Local\\Programs\\Python\\Python312\\Lib\\site-packages\\pandas\\core\\frame.py:11049\u001b[0m, in \u001b[0;36mDataFrame.corr\u001b[1;34m(self, method, min_periods, numeric_only)\u001b[0m\n\u001b[0;32m  11047\u001b[0m cols \u001b[38;5;241m=\u001b[39m data\u001b[38;5;241m.\u001b[39mcolumns\n\u001b[0;32m  11048\u001b[0m idx \u001b[38;5;241m=\u001b[39m cols\u001b[38;5;241m.\u001b[39mcopy()\n\u001b[1;32m> 11049\u001b[0m mat \u001b[38;5;241m=\u001b[39m \u001b[43mdata\u001b[49m\u001b[38;5;241;43m.\u001b[39;49m\u001b[43mto_numpy\u001b[49m\u001b[43m(\u001b[49m\u001b[43mdtype\u001b[49m\u001b[38;5;241;43m=\u001b[39;49m\u001b[38;5;28;43mfloat\u001b[39;49m\u001b[43m,\u001b[49m\u001b[43m \u001b[49m\u001b[43mna_value\u001b[49m\u001b[38;5;241;43m=\u001b[39;49m\u001b[43mnp\u001b[49m\u001b[38;5;241;43m.\u001b[39;49m\u001b[43mnan\u001b[49m\u001b[43m,\u001b[49m\u001b[43m \u001b[49m\u001b[43mcopy\u001b[49m\u001b[38;5;241;43m=\u001b[39;49m\u001b[38;5;28;43;01mFalse\u001b[39;49;00m\u001b[43m)\u001b[49m\n\u001b[0;32m  11051\u001b[0m \u001b[38;5;28;01mif\u001b[39;00m method \u001b[38;5;241m==\u001b[39m \u001b[38;5;124m\"\u001b[39m\u001b[38;5;124mpearson\u001b[39m\u001b[38;5;124m\"\u001b[39m:\n\u001b[0;32m  11052\u001b[0m     correl \u001b[38;5;241m=\u001b[39m libalgos\u001b[38;5;241m.\u001b[39mnancorr(mat, minp\u001b[38;5;241m=\u001b[39mmin_periods)\n",
      "File \u001b[1;32m~\\AppData\\Local\\Programs\\Python\\Python312\\Lib\\site-packages\\pandas\\core\\frame.py:1993\u001b[0m, in \u001b[0;36mDataFrame.to_numpy\u001b[1;34m(self, dtype, copy, na_value)\u001b[0m\n\u001b[0;32m   1991\u001b[0m \u001b[38;5;28;01mif\u001b[39;00m dtype \u001b[38;5;129;01mis\u001b[39;00m \u001b[38;5;129;01mnot\u001b[39;00m \u001b[38;5;28;01mNone\u001b[39;00m:\n\u001b[0;32m   1992\u001b[0m     dtype \u001b[38;5;241m=\u001b[39m np\u001b[38;5;241m.\u001b[39mdtype(dtype)\n\u001b[1;32m-> 1993\u001b[0m result \u001b[38;5;241m=\u001b[39m \u001b[38;5;28;43mself\u001b[39;49m\u001b[38;5;241;43m.\u001b[39;49m\u001b[43m_mgr\u001b[49m\u001b[38;5;241;43m.\u001b[39;49m\u001b[43mas_array\u001b[49m\u001b[43m(\u001b[49m\u001b[43mdtype\u001b[49m\u001b[38;5;241;43m=\u001b[39;49m\u001b[43mdtype\u001b[49m\u001b[43m,\u001b[49m\u001b[43m \u001b[49m\u001b[43mcopy\u001b[49m\u001b[38;5;241;43m=\u001b[39;49m\u001b[43mcopy\u001b[49m\u001b[43m,\u001b[49m\u001b[43m \u001b[49m\u001b[43mna_value\u001b[49m\u001b[38;5;241;43m=\u001b[39;49m\u001b[43mna_value\u001b[49m\u001b[43m)\u001b[49m\n\u001b[0;32m   1994\u001b[0m \u001b[38;5;28;01mif\u001b[39;00m result\u001b[38;5;241m.\u001b[39mdtype \u001b[38;5;129;01mis\u001b[39;00m \u001b[38;5;129;01mnot\u001b[39;00m dtype:\n\u001b[0;32m   1995\u001b[0m     result \u001b[38;5;241m=\u001b[39m np\u001b[38;5;241m.\u001b[39masarray(result, dtype\u001b[38;5;241m=\u001b[39mdtype)\n",
      "File \u001b[1;32m~\\AppData\\Local\\Programs\\Python\\Python312\\Lib\\site-packages\\pandas\\core\\internals\\managers.py:1694\u001b[0m, in \u001b[0;36mBlockManager.as_array\u001b[1;34m(self, dtype, copy, na_value)\u001b[0m\n\u001b[0;32m   1692\u001b[0m         arr\u001b[38;5;241m.\u001b[39mflags\u001b[38;5;241m.\u001b[39mwriteable \u001b[38;5;241m=\u001b[39m \u001b[38;5;28;01mFalse\u001b[39;00m\n\u001b[0;32m   1693\u001b[0m \u001b[38;5;28;01melse\u001b[39;00m:\n\u001b[1;32m-> 1694\u001b[0m     arr \u001b[38;5;241m=\u001b[39m \u001b[38;5;28;43mself\u001b[39;49m\u001b[38;5;241;43m.\u001b[39;49m\u001b[43m_interleave\u001b[49m\u001b[43m(\u001b[49m\u001b[43mdtype\u001b[49m\u001b[38;5;241;43m=\u001b[39;49m\u001b[43mdtype\u001b[49m\u001b[43m,\u001b[49m\u001b[43m \u001b[49m\u001b[43mna_value\u001b[49m\u001b[38;5;241;43m=\u001b[39;49m\u001b[43mna_value\u001b[49m\u001b[43m)\u001b[49m\n\u001b[0;32m   1695\u001b[0m     \u001b[38;5;66;03m# The underlying data was copied within _interleave, so no need\u001b[39;00m\n\u001b[0;32m   1696\u001b[0m     \u001b[38;5;66;03m# to further copy if copy=True or setting na_value\u001b[39;00m\n\u001b[0;32m   1698\u001b[0m \u001b[38;5;28;01mif\u001b[39;00m na_value \u001b[38;5;129;01mis\u001b[39;00m lib\u001b[38;5;241m.\u001b[39mno_default:\n",
      "File \u001b[1;32m~\\AppData\\Local\\Programs\\Python\\Python312\\Lib\\site-packages\\pandas\\core\\internals\\managers.py:1753\u001b[0m, in \u001b[0;36mBlockManager._interleave\u001b[1;34m(self, dtype, na_value)\u001b[0m\n\u001b[0;32m   1751\u001b[0m     \u001b[38;5;28;01melse\u001b[39;00m:\n\u001b[0;32m   1752\u001b[0m         arr \u001b[38;5;241m=\u001b[39m blk\u001b[38;5;241m.\u001b[39mget_values(dtype)\n\u001b[1;32m-> 1753\u001b[0m     \u001b[43mresult\u001b[49m\u001b[43m[\u001b[49m\u001b[43mrl\u001b[49m\u001b[38;5;241;43m.\u001b[39;49m\u001b[43mindexer\u001b[49m\u001b[43m]\u001b[49m \u001b[38;5;241m=\u001b[39m arr\n\u001b[0;32m   1754\u001b[0m     itemmask[rl\u001b[38;5;241m.\u001b[39mindexer] \u001b[38;5;241m=\u001b[39m \u001b[38;5;241m1\u001b[39m\n\u001b[0;32m   1756\u001b[0m \u001b[38;5;28;01mif\u001b[39;00m \u001b[38;5;129;01mnot\u001b[39;00m itemmask\u001b[38;5;241m.\u001b[39mall():\n",
      "\u001b[1;31mValueError\u001b[0m: could not convert string to float: '2012-08-07'"
     ]
    }
   ],
   "source": [
    "mars_df.corr()"
   ]
  },
  {
   "cell_type": "markdown",
   "id": "5f253775-f856-4d82-a776-ff4c10438540",
   "metadata": {},
   "source": [
    "### **4.2 Pairwise Comparisons**\n",
    "- **Pair plot visualization** (`sns.pairplot(df[['avg_air_temp', 'mean_pressure', 'UV_Radiation']])`).\n",
    "- Check for **nonlinear relationships** using **Spearman correlation**."
   ]
  },
  {
   "cell_type": "code",
   "execution_count": null,
   "id": "1e493033-0e1f-4933-afb4-5763b886c19a",
   "metadata": {},
   "outputs": [],
   "source": []
  },
  {
   "cell_type": "markdown",
   "id": "d5cc4223-fc04-42cf-a600-182448346b6a",
   "metadata": {},
   "source": [
    "---"
   ]
  },
  {
   "cell_type": "markdown",
   "id": "25e3fe74-61bd-403d-b883-489f5377994d",
   "metadata": {},
   "source": [
    "## **5. Missing Data Analysis**"
   ]
  },
  {
   "cell_type": "markdown",
   "id": "1c66f37f-da79-431d-99d9-d09800c8fdc1",
   "metadata": {},
   "source": [
    "### **5.1 Investigating Missing Patterns**\n",
    "- **Time-series visualization** of missing values:\n",
    "  - `df.groupby('mars_year').apply(lambda x: x.isnull().sum())`\n",
    "  - Plot missing values over time using `sns.heatmap()`."
   ]
  },
  {
   "cell_type": "code",
   "execution_count": null,
   "id": "10edd889-c894-4f0f-becf-61f05c2b678d",
   "metadata": {},
   "outputs": [],
   "source": []
  },
  {
   "cell_type": "markdown",
   "id": "e0e1839e-f27f-45ad-a2c3-74d6bd3c49ac",
   "metadata": {},
   "source": [
    "### **5.2 Predicting Missing Data**\n",
    "- **Regression-based approaches**:\n",
    "  - Use **Linear Regression or KNN Imputation** to check if missing values can be estimated using other variables.\n",
    "- **Hypothesis Testing**:\n",
    "  - Compare distributions of missing vs. non-missing data (`sns.boxplot(x='Missing', y='avg_air_temp')`).\n",
    "  - Perform **t-tests** (`scipy.stats.ttest_ind()`) to check if missing data follows systematic trends."
   ]
  },
  {
   "cell_type": "code",
   "execution_count": null,
   "id": "2bcc1ded-2393-4030-a827-932d5411860c",
   "metadata": {},
   "outputs": [],
   "source": []
  },
  {
   "cell_type": "markdown",
   "id": "5d4eb8c3-542d-49d4-905d-e4eea702116b",
   "metadata": {},
   "source": [
    "---"
   ]
  },
  {
   "cell_type": "markdown",
   "id": "5b515dd9-b038-47b1-841d-1f1d12cf8a15",
   "metadata": {},
   "source": [
    "## **6. Cyclical Trends: Seasonal and Yearly Patterns**"
   ]
  },
  {
   "cell_type": "markdown",
   "id": "1c86f1b0-2e71-46c6-8891-c41b42963f09",
   "metadata": {},
   "source": [
    "### **6.1 Identify Years with Complete Sol Records**\n",
    "- **Check completeness**:  \n",
    "  - `df.groupby('mars_year')['earth_date_time'].count()`\n",
    "  - Filter for years with **full sol records**."
   ]
  },
  {
   "cell_type": "code",
   "execution_count": null,
   "id": "e434dbd5-c758-4e48-8624-6aa562ccaf9d",
   "metadata": {},
   "outputs": [],
   "source": []
  },
  {
   "cell_type": "markdown",
   "id": "f8d0701d-cb27-45e9-b701-696040a50c74",
   "metadata": {},
   "source": [
    "### **6.2 Seasonal Variability**\n",
    "- **Line plots** of monthly trends:\n",
    "  - `sns.lineplot(x='mars_month', y='avg_air_temp', hue='mars_year', data=df)`\n",
    "- **Compare seasons**:\n",
    "  - `sns.boxplot(x='mars_season', y='avg_air_temp', data=df)`"
   ]
  },
  {
   "cell_type": "code",
   "execution_count": null,
   "id": "dc4bcd2f-e46d-43c4-815a-1bd8e6730922",
   "metadata": {},
   "outputs": [],
   "source": []
  },
  {
   "cell_type": "markdown",
   "id": "be75458d-c10e-40b5-a9da-67f6211b032a",
   "metadata": {},
   "source": [
    "---"
   ]
  },
  {
   "cell_type": "markdown",
   "id": "51dc9cb7-a101-4400-bf6f-2e24c200a381",
   "metadata": {},
   "source": [
    "## **7. Day Length vs. Temperature Relationship**\n",
    "- **Scatter Plots**:\n",
    "  - `sns.scatterplot(x='day_length', y='max_ground_temp', data=df)`\n",
    "- **Correlation Test** (`scipy.stats.pearsonr(df['day_length'], df['max_air_temp'])`)."
   ]
  },
  {
   "cell_type": "code",
   "execution_count": null,
   "id": "984fb22b-07a2-4e82-a484-cd2ed2a3dff7",
   "metadata": {},
   "outputs": [],
   "source": []
  },
  {
   "cell_type": "markdown",
   "id": "08b74b5c-79a8-4e50-987b-f8fb643993c7",
   "metadata": {},
   "source": [
    "---"
   ]
  },
  {
   "cell_type": "markdown",
   "id": "365cd212-1070-453a-82d6-456d3397dbb0",
   "metadata": {},
   "source": [
    "## **8. UV Radiation and Atmospheric Conditions**\n",
    "- **UV vs. Temperature**: `sns.scatterplot(x='UV_Radiation', y='avg_air_temp')`.\n",
    "- **Seasonal UV Levels**: `sns.boxplot(x='mars_season', y='UV_Radiation')`.\n",
    "- **Correlation Analysis**:\n",
    "  - `df[['UV_Radiation', 'avg_air_temp', 'mean_pressure']].corr()`"
   ]
  },
  {
   "cell_type": "code",
   "execution_count": null,
   "id": "83dbfdc2-04f0-442d-92b8-406496519bb9",
   "metadata": {},
   "outputs": [],
   "source": []
  },
  {
   "cell_type": "markdown",
   "id": "c6c24642-37fe-4e72-be4d-b7fdcdaf9e0c",
   "metadata": {},
   "source": [
    "---"
   ]
  },
  {
   "cell_type": "markdown",
   "id": "36c78c35-c171-44f0-a65a-083e2f5ba0f2",
   "metadata": {},
   "source": [
    "## **9. Differences Between Air & Ground Temperatures**\n",
    "- Compute **temperature gap**:\n",
    "  - `df['temp_gap'] = df['avg_ground_temp'] - df['avg_air_temp']`\n",
    "- **Visualize over time**: `sns.lineplot(x='mars_month', y='temp_gap', data=df)`.\n",
    "- **Seasonal Variability**:\n",
    "  - Boxplots for temp gaps across seasons."
   ]
  },
  {
   "cell_type": "code",
   "execution_count": null,
   "id": "9c7b28d4-e2ce-4875-81d8-a71d76ace930",
   "metadata": {},
   "outputs": [],
   "source": []
  },
  {
   "cell_type": "markdown",
   "id": "a53f9a18-bb51-4116-bfcb-5e004bd5cc67",
   "metadata": {},
   "source": [
    "---"
   ]
  },
  {
   "cell_type": "markdown",
   "id": "3cd113be-ce43-425f-bd4d-d66258c559a9",
   "metadata": {},
   "source": [
    "## **10. Long-Term Trends Over Martian Years**\n",
    "- **Rolling averages** to smooth trends:\n",
    "  - `df['mean_pressure'].rolling(window=30).mean().plot()`\n",
    "- **Compare yearly distributions**:\n",
    "  - `sns.boxplot(x='mars_year', y='mean_pressure', data=df)`"
   ]
  },
  {
   "cell_type": "code",
   "execution_count": null,
   "id": "0161567e-72ec-4bc8-8d83-c85144f75b65",
   "metadata": {},
   "outputs": [],
   "source": []
  },
  {
   "cell_type": "markdown",
   "id": "6e686db8-cab3-47f2-98ce-85c40b945788",
   "metadata": {},
   "source": [
    "---"
   ]
  },
  {
   "cell_type": "markdown",
   "id": "9f540f40-204e-4a16-9a8c-28e2c0c69a70",
   "metadata": {},
   "source": [
    "## **11. Outlier and Anomaly Detection**\n",
    "- **Boxplots for outliers**: `sns.boxplot(x=df['mean_pressure'])`.\n",
    "- **Z-Score Analysis**:\n",
    "  - `df['z_score'] = (df['mean_pressure'] - df['mean_pressure'].mean()) / df['mean_pressure'].std()`\n",
    "  - Identify extreme z-scores (`df[df['z_score'] > 3]`)."
   ]
  },
  {
   "cell_type": "code",
   "execution_count": null,
   "id": "4f7a5cbd-01b5-4f82-811c-be8a8cf0623e",
   "metadata": {},
   "outputs": [],
   "source": []
  },
  {
   "cell_type": "markdown",
   "id": "93f30c67-a6ef-4e24-81d2-67df5c0ea6f0",
   "metadata": {},
   "source": [
    "---"
   ]
  },
  {
   "cell_type": "markdown",
   "id": "89f07845-9be9-4b7c-95af-27a65a651d0c",
   "metadata": {},
   "source": [
    "## **12. Hypothesis Testing**"
   ]
  },
  {
   "cell_type": "markdown",
   "id": "1ab57497-7020-4242-95d8-6f8450e99396",
   "metadata": {},
   "source": [
    "### **12.1 Are Temperature and Pressure Correlated?**\n",
    "- **Null Hypothesis (H₀):** No correlation.\n",
    "- **Alternative Hypothesis (H₁):** There is a correlation.\n",
    "- **Statistical Test**:\n",
    "  - Pearson correlation test (`scipy.stats.pearsonr()`)."
   ]
  },
  {
   "cell_type": "code",
   "execution_count": null,
   "id": "c4739495-8422-4f4f-8c71-7aaf0ba0a8b9",
   "metadata": {},
   "outputs": [],
   "source": []
  },
  {
   "cell_type": "markdown",
   "id": "aaf8443f-c7d7-408f-8275-9624677842e7",
   "metadata": {},
   "source": [
    "### **12.2 Can Features Predict Missing Data?**\n",
    "- Compare distributions using **t-tests**.\n",
    "- Explore regression-based imputation."
   ]
  },
  {
   "cell_type": "code",
   "execution_count": null,
   "id": "24607b24-038d-4548-96bc-3e0d0804c1d8",
   "metadata": {},
   "outputs": [],
   "source": []
  },
  {
   "cell_type": "markdown",
   "id": "e14029d8-066d-4dfa-8ef0-0244db0ac3fc",
   "metadata": {},
   "source": [
    "---"
   ]
  },
  {
   "cell_type": "markdown",
   "id": "da0ed1eb-6fbe-4e49-9286-95f25b840c8f",
   "metadata": {},
   "source": [
    "## **13. Summary of Findings & Next Steps**\n",
    "- **Key insights**: Seasonal trends, missing data impact, correlations, anomalies.\n",
    "- **Potential next steps**:\n",
    "  - Feature engineering.\n",
    "  - Model selection for missing data prediction.\n",
    "  - Time-series forecasting models."
   ]
  },
  {
   "cell_type": "code",
   "execution_count": null,
   "id": "738766ad-547c-4935-82af-9212f320c13f",
   "metadata": {},
   "outputs": [],
   "source": []
  }
 ],
 "metadata": {
  "kernelspec": {
   "display_name": "Python 3 (ipykernel)",
   "language": "python",
   "name": "python3"
  },
  "language_info": {
   "codemirror_mode": {
    "name": "ipython",
    "version": 3
   },
   "file_extension": ".py",
   "mimetype": "text/x-python",
   "name": "python",
   "nbconvert_exporter": "python",
   "pygments_lexer": "ipython3",
   "version": "3.12.6"
  }
 },
 "nbformat": 4,
 "nbformat_minor": 5
}
